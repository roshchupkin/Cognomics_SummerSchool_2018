{
 "cells": [
  {
   "cell_type": "markdown",
   "metadata": {},
   "source": [
    "# Import "
   ]
  },
  {
   "cell_type": "code",
   "execution_count": 1,
   "metadata": {
    "ExecuteTime": {
     "end_time": "2018-08-16T21:57:45.348213Z",
     "start_time": "2018-08-16T21:57:44.398088Z"
    },
    "collapsed": true
   },
   "outputs": [],
   "source": [
    "import numpy as np\n",
    "import pandas as pd\n",
    "import os\n",
    "import sys\n",
    "import h5py\n",
    "import tables\n",
    "import shutil\n",
    "import matplotlib.pyplot as plt\n",
    "%matplotlib inline"
   ]
  },
  {
   "cell_type": "markdown",
   "metadata": {},
   "source": [
    "# Functions "
   ]
  },
  {
   "cell_type": "code",
   "execution_count": 32,
   "metadata": {
    "ExecuteTime": {
     "end_time": "2018-08-16T22:07:56.082955Z",
     "start_time": "2018-08-16T22:07:56.054676Z"
    },
    "collapsed": false
   },
   "outputs": [],
   "source": [
    "def get_snps(rsid, study_path=None, study_name=None , split_size=25000 ):\n",
    "    \n",
    "    \n",
    "    main_dict={}\n",
    "    main_dict['id']=[]   \n",
    "    \n",
    "    probes_path='/{}/probes/{}.h5'\n",
    "    genotype_path='/{}/genotype/{}_{}.h5'\n",
    "    ind_path='/{}/individuals/{}.h5'\n",
    "\n",
    "    store=pd.HDFStore( probes_path.format(study_path,study_name),'r' )\n",
    "    df_tmp=store.select('probes',where='ID==rsid')\n",
    "    store.close()\n",
    "    index=df_tmp.index.tolist()\n",
    "    IDs=df_tmp.ID.tolist()\n",
    "\n",
    "    ind=pd.read_hdf(ind_path.format(study_path,study_name),'individuals').individual.tolist()\n",
    "\n",
    "    main_dict['id']=  ind\n",
    "\n",
    "    chunks = np.array(index) / split_size\n",
    "    ind=np.array(index) - split_size * chunks\n",
    "    \n",
    "    for j,i in enumerate(IDs):\n",
    "\n",
    "        gen_tmp=h5py.File(genotype_path.format(study_path,chunks[j],study_name) ,'r')['genotype'][ind[j],:]\n",
    "        if main_dict.get(i,0)==0:\n",
    "            main_dict[i]=list(gen_tmp)\n",
    "        else:                    \n",
    "            main_dict[i]=main_dict[i] + list(gen_tmp)\n",
    "\n",
    "    return pd.DataFrame.from_dict(main_dict)\n",
    "                \n",
    "    "
   ]
  },
  {
   "cell_type": "code",
   "execution_count": 33,
   "metadata": {
    "ExecuteTime": {
     "end_time": "2018-08-16T22:07:56.657403Z",
     "start_time": "2018-08-16T22:07:56.652739Z"
    },
    "collapsed": false
   },
   "outputs": [],
   "source": [
    "def get_alleles(allele, df_hash):\n",
    "    \n",
    "    str_allele=pd.merge(pd.DataFrame({'keys':allele} ), df_hash, on='keys' ).allele.tolist()\n",
    "    \n",
    "    return str_allele"
   ]
  },
  {
   "cell_type": "code",
   "execution_count": null,
   "metadata": {
    "collapsed": true
   },
   "outputs": [],
   "source": []
  },
  {
   "cell_type": "code",
   "execution_count": null,
   "metadata": {
    "collapsed": true
   },
   "outputs": [],
   "source": []
  },
  {
   "cell_type": "markdown",
   "metadata": {},
   "source": [
    "# Global variables "
   ]
  },
  {
   "cell_type": "code",
   "execution_count": 3,
   "metadata": {
    "ExecuteTime": {
     "end_time": "2018-08-16T21:57:48.358247Z",
     "start_time": "2018-08-16T21:57:48.355243Z"
    },
    "collapsed": true
   },
   "outputs": [],
   "source": [
    "SummerSchool_PATH='/scratch/groshchupkin/Students/Cognomics_SummerSchool_2018/'"
   ]
  },
  {
   "cell_type": "code",
   "execution_count": 4,
   "metadata": {
    "ExecuteTime": {
     "end_time": "2018-08-16T21:57:48.773035Z",
     "start_time": "2018-08-16T21:57:48.770187Z"
    },
    "collapsed": true
   },
   "outputs": [],
   "source": [
    "study_1='study_1'\n",
    "study_2='study_2'"
   ]
  },
  {
   "cell_type": "code",
   "execution_count": null,
   "metadata": {
    "collapsed": true
   },
   "outputs": [],
   "source": []
  },
  {
   "cell_type": "markdown",
   "metadata": {},
   "source": [
    "# Individuals "
   ]
  },
  {
   "cell_type": "markdown",
   "metadata": {},
   "source": [
    "## Study 1"
   ]
  },
  {
   "cell_type": "code",
   "execution_count": 5,
   "metadata": {
    "ExecuteTime": {
     "end_time": "2018-08-16T21:57:52.032196Z",
     "start_time": "2018-08-16T21:57:52.003142Z"
    },
    "collapsed": false
   },
   "outputs": [
    {
     "name": "stdout",
     "output_type": "stream",
     "text": [
      "(1477, 1)\n"
     ]
    },
    {
     "data": {
      "text/html": [
       "<div>\n",
       "<table border=\"1\" class=\"dataframe\">\n",
       "  <thead>\n",
       "    <tr style=\"text-align: right;\">\n",
       "      <th></th>\n",
       "      <th>individual</th>\n",
       "    </tr>\n",
       "  </thead>\n",
       "  <tbody>\n",
       "    <tr>\n",
       "      <th>0</th>\n",
       "      <td>study_1_0</td>\n",
       "    </tr>\n",
       "    <tr>\n",
       "      <th>1</th>\n",
       "      <td>study_1_1</td>\n",
       "    </tr>\n",
       "    <tr>\n",
       "      <th>2</th>\n",
       "      <td>study_1_2</td>\n",
       "    </tr>\n",
       "    <tr>\n",
       "      <th>3</th>\n",
       "      <td>study_1_3</td>\n",
       "    </tr>\n",
       "    <tr>\n",
       "      <th>4</th>\n",
       "      <td>study_1_4</td>\n",
       "    </tr>\n",
       "  </tbody>\n",
       "</table>\n",
       "</div>"
      ],
      "text/plain": [
       "  individual\n",
       "0  study_1_0\n",
       "1  study_1_1\n",
       "2  study_1_2\n",
       "3  study_1_3\n",
       "4  study_1_4"
      ]
     },
     "execution_count": 5,
     "metadata": {},
     "output_type": "execute_result"
    }
   ],
   "source": [
    "study_name='study_1'\n",
    "df_ind=pd.read_hdf('{}/{}/{}/individuals/{}.h5'.format(SummerSchool_PATH,study_1,study_1,study_1),'individuals')\n",
    "print df_ind.shape\n",
    "df_ind.head()"
   ]
  },
  {
   "cell_type": "markdown",
   "metadata": {
    "ExecuteTime": {
     "end_time": "2018-08-15T20:17:34.710808Z",
     "start_time": "2018-08-15T20:17:34.677442Z"
    }
   },
   "source": [
    "## Study 2"
   ]
  },
  {
   "cell_type": "code",
   "execution_count": 6,
   "metadata": {
    "ExecuteTime": {
     "end_time": "2018-08-16T21:57:55.643655Z",
     "start_time": "2018-08-16T21:57:55.618656Z"
    },
    "collapsed": false
   },
   "outputs": [
    {
     "name": "stdout",
     "output_type": "stream",
     "text": [
      "(1477, 1)\n"
     ]
    },
    {
     "data": {
      "text/html": [
       "<div>\n",
       "<table border=\"1\" class=\"dataframe\">\n",
       "  <thead>\n",
       "    <tr style=\"text-align: right;\">\n",
       "      <th></th>\n",
       "      <th>individual</th>\n",
       "    </tr>\n",
       "  </thead>\n",
       "  <tbody>\n",
       "    <tr>\n",
       "      <th>0</th>\n",
       "      <td>study_2_0</td>\n",
       "    </tr>\n",
       "    <tr>\n",
       "      <th>1</th>\n",
       "      <td>study_2_1</td>\n",
       "    </tr>\n",
       "    <tr>\n",
       "      <th>2</th>\n",
       "      <td>study_2_2</td>\n",
       "    </tr>\n",
       "    <tr>\n",
       "      <th>3</th>\n",
       "      <td>study_2_3</td>\n",
       "    </tr>\n",
       "    <tr>\n",
       "      <th>4</th>\n",
       "      <td>study_2_4</td>\n",
       "    </tr>\n",
       "  </tbody>\n",
       "</table>\n",
       "</div>"
      ],
      "text/plain": [
       "  individual\n",
       "0  study_2_0\n",
       "1  study_2_1\n",
       "2  study_2_2\n",
       "3  study_2_3\n",
       "4  study_2_4"
      ]
     },
     "execution_count": 6,
     "metadata": {},
     "output_type": "execute_result"
    }
   ],
   "source": [
    "df_ind=pd.read_hdf('{}/{}/{}/individuals/{}.h5'.format(SummerSchool_PATH,study_2,study_2,study_2),'individuals')\n",
    "print df_ind.shape\n",
    "df_ind.head()"
   ]
  },
  {
   "cell_type": "markdown",
   "metadata": {},
   "source": [
    "# Probes "
   ]
  },
  {
   "cell_type": "markdown",
   "metadata": {},
   "source": [
    "## Study 1"
   ]
  },
  {
   "cell_type": "code",
   "execution_count": 7,
   "metadata": {
    "ExecuteTime": {
     "end_time": "2018-08-16T21:58:06.678475Z",
     "start_time": "2018-08-16T21:58:06.597498Z"
    },
    "collapsed": false
   },
   "outputs": [
    {
     "data": {
      "text/html": [
       "<div>\n",
       "<table border=\"1\" class=\"dataframe\">\n",
       "  <thead>\n",
       "    <tr style=\"text-align: right;\">\n",
       "      <th></th>\n",
       "      <th>ID</th>\n",
       "      <th>allele1</th>\n",
       "      <th>allele2</th>\n",
       "      <th>MAF</th>\n",
       "      <th>Rsq</th>\n",
       "      <th>CHR</th>\n",
       "      <th>bp</th>\n",
       "    </tr>\n",
       "  </thead>\n",
       "  <tbody>\n",
       "    <tr>\n",
       "      <th>0</th>\n",
       "      <td>7:33185035</td>\n",
       "      <td>8320025024</td>\n",
       "      <td>9088027334</td>\n",
       "      <td>0.18213</td>\n",
       "      <td>1.00034</td>\n",
       "      <td>7</td>\n",
       "      <td>33185035</td>\n",
       "    </tr>\n",
       "    <tr>\n",
       "      <th>1</th>\n",
       "      <td>7:33185068</td>\n",
       "      <td>9088027334</td>\n",
       "      <td>8576025794</td>\n",
       "      <td>0.00461</td>\n",
       "      <td>0.22443</td>\n",
       "      <td>7</td>\n",
       "      <td>33185068</td>\n",
       "    </tr>\n",
       "    <tr>\n",
       "      <th>2</th>\n",
       "      <td>7:33185609</td>\n",
       "      <td>10752032341</td>\n",
       "      <td>8576025794</td>\n",
       "      <td>0.18213</td>\n",
       "      <td>1.00034</td>\n",
       "      <td>7</td>\n",
       "      <td>33185609</td>\n",
       "    </tr>\n",
       "    <tr>\n",
       "      <th>3</th>\n",
       "      <td>7:33186065</td>\n",
       "      <td>10752032341</td>\n",
       "      <td>9088027334</td>\n",
       "      <td>0.16056</td>\n",
       "      <td>0.89488</td>\n",
       "      <td>7</td>\n",
       "      <td>33186065</td>\n",
       "    </tr>\n",
       "    <tr>\n",
       "      <th>4</th>\n",
       "      <td>7:33186066</td>\n",
       "      <td>10752032341</td>\n",
       "      <td>8320025024</td>\n",
       "      <td>0.15856</td>\n",
       "      <td>0.88030</td>\n",
       "      <td>7</td>\n",
       "      <td>33186066</td>\n",
       "    </tr>\n",
       "    <tr>\n",
       "      <th>5</th>\n",
       "      <td>7:33186082</td>\n",
       "      <td>9088027334</td>\n",
       "      <td>8576025794</td>\n",
       "      <td>0.16195</td>\n",
       "      <td>0.99158</td>\n",
       "      <td>7</td>\n",
       "      <td>33186082</td>\n",
       "    </tr>\n",
       "    <tr>\n",
       "      <th>6</th>\n",
       "      <td>7:33186210</td>\n",
       "      <td>8576025794</td>\n",
       "      <td>10752032341</td>\n",
       "      <td>0.22479</td>\n",
       "      <td>0.99996</td>\n",
       "      <td>7</td>\n",
       "      <td>33186210</td>\n",
       "    </tr>\n",
       "    <tr>\n",
       "      <th>7</th>\n",
       "      <td>7:33186317</td>\n",
       "      <td>8320025024</td>\n",
       "      <td>9088027334</td>\n",
       "      <td>0.14574</td>\n",
       "      <td>0.97877</td>\n",
       "      <td>7</td>\n",
       "      <td>33186317</td>\n",
       "    </tr>\n",
       "    <tr>\n",
       "      <th>8</th>\n",
       "      <td>7:33186329</td>\n",
       "      <td>8320025024</td>\n",
       "      <td>9088027334</td>\n",
       "      <td>0.20862</td>\n",
       "      <td>0.94544</td>\n",
       "      <td>7</td>\n",
       "      <td>33186329</td>\n",
       "    </tr>\n",
       "    <tr>\n",
       "      <th>9</th>\n",
       "      <td>7:33186353</td>\n",
       "      <td>9088027334</td>\n",
       "      <td>8576025794</td>\n",
       "      <td>0.18213</td>\n",
       "      <td>1.00034</td>\n",
       "      <td>7</td>\n",
       "      <td>33186353</td>\n",
       "    </tr>\n",
       "  </tbody>\n",
       "</table>\n",
       "</div>"
      ],
      "text/plain": [
       "           ID      allele1      allele2      MAF      Rsq  CHR        bp\n",
       "0  7:33185035   8320025024   9088027334  0.18213  1.00034    7  33185035\n",
       "1  7:33185068   9088027334   8576025794  0.00461  0.22443    7  33185068\n",
       "2  7:33185609  10752032341   8576025794  0.18213  1.00034    7  33185609\n",
       "3  7:33186065  10752032341   9088027334  0.16056  0.89488    7  33186065\n",
       "4  7:33186066  10752032341   8320025024  0.15856  0.88030    7  33186066\n",
       "5  7:33186082   9088027334   8576025794  0.16195  0.99158    7  33186082\n",
       "6  7:33186210   8576025794  10752032341  0.22479  0.99996    7  33186210\n",
       "7  7:33186317   8320025024   9088027334  0.14574  0.97877    7  33186317\n",
       "8  7:33186329   8320025024   9088027334  0.20862  0.94544    7  33186329\n",
       "9  7:33186353   9088027334   8576025794  0.18213  1.00034    7  33186353"
      ]
     },
     "execution_count": 7,
     "metadata": {},
     "output_type": "execute_result"
    }
   ],
   "source": [
    "store=pd.HDFStore( '{}/{}/{}/probes/{}.h5'.format(SummerSchool_PATH,study_1,study_1,study_1),'r' )\n",
    "store.select('probes',start=0,stop=10)"
   ]
  },
  {
   "cell_type": "code",
   "execution_count": 8,
   "metadata": {
    "ExecuteTime": {
     "end_time": "2018-08-16T21:58:11.667624Z",
     "start_time": "2018-08-16T21:58:11.652169Z"
    },
    "collapsed": false
   },
   "outputs": [
    {
     "data": {
      "text/html": [
       "<div>\n",
       "<table border=\"1\" class=\"dataframe\">\n",
       "  <thead>\n",
       "    <tr style=\"text-align: right;\">\n",
       "      <th></th>\n",
       "      <th>allele</th>\n",
       "      <th>keys</th>\n",
       "    </tr>\n",
       "  </thead>\n",
       "  <tbody>\n",
       "    <tr>\n",
       "      <th>0</th>\n",
       "      <td>A</td>\n",
       "      <td>8320025024</td>\n",
       "    </tr>\n",
       "    <tr>\n",
       "      <th>1</th>\n",
       "      <td>C</td>\n",
       "      <td>8576025794</td>\n",
       "    </tr>\n",
       "    <tr>\n",
       "      <th>2</th>\n",
       "      <td>D</td>\n",
       "      <td>8704026181</td>\n",
       "    </tr>\n",
       "    <tr>\n",
       "      <th>3</th>\n",
       "      <td>G</td>\n",
       "      <td>9088027334</td>\n",
       "    </tr>\n",
       "    <tr>\n",
       "      <th>4</th>\n",
       "      <td>I</td>\n",
       "      <td>9344028104</td>\n",
       "    </tr>\n",
       "  </tbody>\n",
       "</table>\n",
       "</div>"
      ],
      "text/plain": [
       "  allele        keys\n",
       "0      A  8320025024\n",
       "1      C  8576025794\n",
       "2      D  8704026181\n",
       "3      G  9088027334\n",
       "4      I  9344028104"
      ]
     },
     "execution_count": 8,
     "metadata": {},
     "output_type": "execute_result"
    }
   ],
   "source": [
    "df_hash_1=pd.read_csv('{}/{}/{}/probes/{}_hash_table.csv.gz'.format(SummerSchool_PATH,study_1,study_1,study_1),sep='\\t')\n",
    "df_hash_1.head()"
   ]
  },
  {
   "cell_type": "code",
   "execution_count": 29,
   "metadata": {
    "ExecuteTime": {
     "end_time": "2018-08-16T22:05:46.843423Z",
     "start_time": "2018-08-16T22:05:46.838752Z"
    },
    "collapsed": false
   },
   "outputs": [
    {
     "data": {
      "text/plain": [
       "8320025024"
      ]
     },
     "execution_count": 29,
     "metadata": {},
     "output_type": "execute_result"
    }
   ],
   "source": [
    "hash(\"A\")"
   ]
  },
  {
   "cell_type": "code",
   "execution_count": 41,
   "metadata": {
    "ExecuteTime": {
     "end_time": "2018-08-16T22:31:44.385760Z",
     "start_time": "2018-08-16T22:31:44.382553Z"
    },
    "collapsed": true
   },
   "outputs": [],
   "source": [
    "store.close()"
   ]
  },
  {
   "cell_type": "markdown",
   "metadata": {},
   "source": [
    "## Study 2"
   ]
  },
  {
   "cell_type": "code",
   "execution_count": 9,
   "metadata": {
    "ExecuteTime": {
     "end_time": "2018-08-16T21:59:01.978332Z",
     "start_time": "2018-08-16T21:59:01.893359Z"
    },
    "collapsed": false
   },
   "outputs": [
    {
     "data": {
      "text/html": [
       "<div>\n",
       "<table border=\"1\" class=\"dataframe\">\n",
       "  <thead>\n",
       "    <tr style=\"text-align: right;\">\n",
       "      <th></th>\n",
       "      <th>ID</th>\n",
       "      <th>allele1</th>\n",
       "      <th>allele2</th>\n",
       "      <th>MAF</th>\n",
       "      <th>Rsq</th>\n",
       "      <th>CHR</th>\n",
       "      <th>bp</th>\n",
       "    </tr>\n",
       "  </thead>\n",
       "  <tbody>\n",
       "    <tr>\n",
       "      <th>0</th>\n",
       "      <td>7:33185035</td>\n",
       "      <td>8320025024</td>\n",
       "      <td>9088027334</td>\n",
       "      <td>0.18213</td>\n",
       "      <td>1.00034</td>\n",
       "      <td>7</td>\n",
       "      <td>33185035</td>\n",
       "    </tr>\n",
       "    <tr>\n",
       "      <th>1</th>\n",
       "      <td>7:33185068</td>\n",
       "      <td>9088027334</td>\n",
       "      <td>8576025794</td>\n",
       "      <td>0.00461</td>\n",
       "      <td>0.22443</td>\n",
       "      <td>7</td>\n",
       "      <td>33185068</td>\n",
       "    </tr>\n",
       "    <tr>\n",
       "      <th>2</th>\n",
       "      <td>7:33185609</td>\n",
       "      <td>10752032341</td>\n",
       "      <td>8576025794</td>\n",
       "      <td>0.18213</td>\n",
       "      <td>1.00034</td>\n",
       "      <td>7</td>\n",
       "      <td>33185609</td>\n",
       "    </tr>\n",
       "    <tr>\n",
       "      <th>3</th>\n",
       "      <td>7:33186065</td>\n",
       "      <td>10752032341</td>\n",
       "      <td>9088027334</td>\n",
       "      <td>0.16056</td>\n",
       "      <td>0.89488</td>\n",
       "      <td>7</td>\n",
       "      <td>33186065</td>\n",
       "    </tr>\n",
       "    <tr>\n",
       "      <th>4</th>\n",
       "      <td>7:33186066</td>\n",
       "      <td>10752032341</td>\n",
       "      <td>8320025024</td>\n",
       "      <td>0.15856</td>\n",
       "      <td>0.88030</td>\n",
       "      <td>7</td>\n",
       "      <td>33186066</td>\n",
       "    </tr>\n",
       "    <tr>\n",
       "      <th>5</th>\n",
       "      <td>7:33186082</td>\n",
       "      <td>9088027334</td>\n",
       "      <td>8576025794</td>\n",
       "      <td>0.16195</td>\n",
       "      <td>0.99158</td>\n",
       "      <td>7</td>\n",
       "      <td>33186082</td>\n",
       "    </tr>\n",
       "    <tr>\n",
       "      <th>6</th>\n",
       "      <td>7:33186210</td>\n",
       "      <td>8576025794</td>\n",
       "      <td>10752032341</td>\n",
       "      <td>0.22479</td>\n",
       "      <td>0.99996</td>\n",
       "      <td>7</td>\n",
       "      <td>33186210</td>\n",
       "    </tr>\n",
       "    <tr>\n",
       "      <th>7</th>\n",
       "      <td>7:33186317</td>\n",
       "      <td>8320025024</td>\n",
       "      <td>9088027334</td>\n",
       "      <td>0.14574</td>\n",
       "      <td>0.97877</td>\n",
       "      <td>7</td>\n",
       "      <td>33186317</td>\n",
       "    </tr>\n",
       "    <tr>\n",
       "      <th>8</th>\n",
       "      <td>7:33186329</td>\n",
       "      <td>8320025024</td>\n",
       "      <td>9088027334</td>\n",
       "      <td>0.20862</td>\n",
       "      <td>0.94544</td>\n",
       "      <td>7</td>\n",
       "      <td>33186329</td>\n",
       "    </tr>\n",
       "    <tr>\n",
       "      <th>9</th>\n",
       "      <td>7:33186353</td>\n",
       "      <td>9088027334</td>\n",
       "      <td>8576025794</td>\n",
       "      <td>0.18213</td>\n",
       "      <td>1.00034</td>\n",
       "      <td>7</td>\n",
       "      <td>33186353</td>\n",
       "    </tr>\n",
       "  </tbody>\n",
       "</table>\n",
       "</div>"
      ],
      "text/plain": [
       "           ID      allele1      allele2      MAF      Rsq  CHR        bp\n",
       "0  7:33185035   8320025024   9088027334  0.18213  1.00034    7  33185035\n",
       "1  7:33185068   9088027334   8576025794  0.00461  0.22443    7  33185068\n",
       "2  7:33185609  10752032341   8576025794  0.18213  1.00034    7  33185609\n",
       "3  7:33186065  10752032341   9088027334  0.16056  0.89488    7  33186065\n",
       "4  7:33186066  10752032341   8320025024  0.15856  0.88030    7  33186066\n",
       "5  7:33186082   9088027334   8576025794  0.16195  0.99158    7  33186082\n",
       "6  7:33186210   8576025794  10752032341  0.22479  0.99996    7  33186210\n",
       "7  7:33186317   8320025024   9088027334  0.14574  0.97877    7  33186317\n",
       "8  7:33186329   8320025024   9088027334  0.20862  0.94544    7  33186329\n",
       "9  7:33186353   9088027334   8576025794  0.18213  1.00034    7  33186353"
      ]
     },
     "execution_count": 9,
     "metadata": {},
     "output_type": "execute_result"
    }
   ],
   "source": [
    "store=pd.HDFStore( '{}/{}/{}/probes/{}.h5'.format(SummerSchool_PATH,study_2,study_2,study_2),'r' )\n",
    "store.select('probes',start=0,stop=10)"
   ]
  },
  {
   "cell_type": "code",
   "execution_count": 10,
   "metadata": {
    "ExecuteTime": {
     "end_time": "2018-08-16T21:59:05.916264Z",
     "start_time": "2018-08-16T21:59:05.908204Z"
    },
    "collapsed": false
   },
   "outputs": [
    {
     "data": {
      "text/plain": [
       "<class 'pandas.io.pytables.HDFStore'>\n",
       "File path: /scratch/groshchupkin/Students/Cognomics_SummerSchool_2018//study_2/study_2/probes/study_2.h5\n",
       "/probes            frame_table  (typ->appendable,nrows->50000,ncols->7,indexers->[index],dc->[ID,allele1,allele2,MAF,Rsq,CHR,bp])"
      ]
     },
     "execution_count": 10,
     "metadata": {},
     "output_type": "execute_result"
    }
   ],
   "source": [
    "store"
   ]
  },
  {
   "cell_type": "code",
   "execution_count": 12,
   "metadata": {
    "ExecuteTime": {
     "end_time": "2018-08-16T21:59:20.659934Z",
     "start_time": "2018-08-16T21:59:20.501102Z"
    },
    "collapsed": false
   },
   "outputs": [
    {
     "data": {
      "text/plain": [
       "(50000, 7)"
      ]
     },
     "execution_count": 12,
     "metadata": {},
     "output_type": "execute_result"
    }
   ],
   "source": [
    "store.select('probes',where='CHR==7').shape"
   ]
  },
  {
   "cell_type": "code",
   "execution_count": 13,
   "metadata": {
    "ExecuteTime": {
     "end_time": "2018-08-16T21:59:21.330519Z",
     "start_time": "2018-08-16T21:59:21.314993Z"
    },
    "collapsed": false
   },
   "outputs": [
    {
     "data": {
      "text/html": [
       "<div>\n",
       "<table border=\"1\" class=\"dataframe\">\n",
       "  <thead>\n",
       "    <tr style=\"text-align: right;\">\n",
       "      <th></th>\n",
       "      <th>allele</th>\n",
       "      <th>keys</th>\n",
       "    </tr>\n",
       "  </thead>\n",
       "  <tbody>\n",
       "    <tr>\n",
       "      <th>0</th>\n",
       "      <td>A</td>\n",
       "      <td>8320025024</td>\n",
       "    </tr>\n",
       "    <tr>\n",
       "      <th>1</th>\n",
       "      <td>C</td>\n",
       "      <td>8576025794</td>\n",
       "    </tr>\n",
       "    <tr>\n",
       "      <th>2</th>\n",
       "      <td>D</td>\n",
       "      <td>8704026181</td>\n",
       "    </tr>\n",
       "    <tr>\n",
       "      <th>3</th>\n",
       "      <td>G</td>\n",
       "      <td>9088027334</td>\n",
       "    </tr>\n",
       "    <tr>\n",
       "      <th>4</th>\n",
       "      <td>I</td>\n",
       "      <td>9344028104</td>\n",
       "    </tr>\n",
       "  </tbody>\n",
       "</table>\n",
       "</div>"
      ],
      "text/plain": [
       "  allele        keys\n",
       "0      A  8320025024\n",
       "1      C  8576025794\n",
       "2      D  8704026181\n",
       "3      G  9088027334\n",
       "4      I  9344028104"
      ]
     },
     "execution_count": 13,
     "metadata": {},
     "output_type": "execute_result"
    }
   ],
   "source": [
    "df_hash_2=pd.read_csv('{}/{}/{}/probes/{}_hash_table.csv.gz'.format(SummerSchool_PATH,study_2,study_2,study_2),sep='\\t')\n",
    "df_hash_2.head()"
   ]
  },
  {
   "cell_type": "code",
   "execution_count": 14,
   "metadata": {
    "ExecuteTime": {
     "end_time": "2018-08-16T21:59:22.160821Z",
     "start_time": "2018-08-16T21:59:22.019049Z"
    },
    "collapsed": false
   },
   "outputs": [
    {
     "data": {
      "text/plain": [
       "(24712, 7)"
      ]
     },
     "execution_count": 14,
     "metadata": {},
     "output_type": "execute_result"
    }
   ],
   "source": [
    "store.select('probes',where='MAF>0.05 and MAF<0.95 ').shape"
   ]
  },
  {
   "cell_type": "code",
   "execution_count": 40,
   "metadata": {
    "ExecuteTime": {
     "end_time": "2018-08-16T22:31:36.162713Z",
     "start_time": "2018-08-16T22:31:36.159128Z"
    },
    "collapsed": true
   },
   "outputs": [],
   "source": [
    "store.close()"
   ]
  },
  {
   "cell_type": "markdown",
   "metadata": {},
   "source": [
    "## Probes from large dataset "
   ]
  },
  {
   "cell_type": "code",
   "execution_count": 42,
   "metadata": {
    "ExecuteTime": {
     "end_time": "2018-08-16T22:31:51.217257Z",
     "start_time": "2018-08-16T22:31:50.909725Z"
    },
    "collapsed": false
   },
   "outputs": [
    {
     "data": {
      "text/html": [
       "<div>\n",
       "<table border=\"1\" class=\"dataframe\">\n",
       "  <thead>\n",
       "    <tr style=\"text-align: right;\">\n",
       "      <th></th>\n",
       "      <th>ID</th>\n",
       "      <th>allele1</th>\n",
       "      <th>allele2</th>\n",
       "      <th>MAF</th>\n",
       "      <th>Rsq</th>\n",
       "      <th>CHR</th>\n",
       "      <th>bp</th>\n",
       "    </tr>\n",
       "  </thead>\n",
       "  <tbody>\n",
       "    <tr>\n",
       "      <th>0</th>\n",
       "      <td>7:33185035</td>\n",
       "      <td>8320025024</td>\n",
       "      <td>9088027334</td>\n",
       "      <td>0.18213</td>\n",
       "      <td>1.00034</td>\n",
       "      <td>7</td>\n",
       "      <td>33185035</td>\n",
       "    </tr>\n",
       "    <tr>\n",
       "      <th>1</th>\n",
       "      <td>7:33185068</td>\n",
       "      <td>9088027334</td>\n",
       "      <td>8576025794</td>\n",
       "      <td>0.00461</td>\n",
       "      <td>0.22443</td>\n",
       "      <td>7</td>\n",
       "      <td>33185068</td>\n",
       "    </tr>\n",
       "    <tr>\n",
       "      <th>2</th>\n",
       "      <td>7:33185609</td>\n",
       "      <td>10752032341</td>\n",
       "      <td>8576025794</td>\n",
       "      <td>0.18213</td>\n",
       "      <td>1.00034</td>\n",
       "      <td>7</td>\n",
       "      <td>33185609</td>\n",
       "    </tr>\n",
       "    <tr>\n",
       "      <th>3</th>\n",
       "      <td>7:33186065</td>\n",
       "      <td>10752032341</td>\n",
       "      <td>9088027334</td>\n",
       "      <td>0.16056</td>\n",
       "      <td>0.89488</td>\n",
       "      <td>7</td>\n",
       "      <td>33186065</td>\n",
       "    </tr>\n",
       "    <tr>\n",
       "      <th>4</th>\n",
       "      <td>7:33186066</td>\n",
       "      <td>10752032341</td>\n",
       "      <td>8320025024</td>\n",
       "      <td>0.15856</td>\n",
       "      <td>0.88030</td>\n",
       "      <td>7</td>\n",
       "      <td>33186066</td>\n",
       "    </tr>\n",
       "    <tr>\n",
       "      <th>5</th>\n",
       "      <td>7:33186082</td>\n",
       "      <td>9088027334</td>\n",
       "      <td>8576025794</td>\n",
       "      <td>0.16195</td>\n",
       "      <td>0.99158</td>\n",
       "      <td>7</td>\n",
       "      <td>33186082</td>\n",
       "    </tr>\n",
       "    <tr>\n",
       "      <th>6</th>\n",
       "      <td>7:33186210</td>\n",
       "      <td>8576025794</td>\n",
       "      <td>10752032341</td>\n",
       "      <td>0.22479</td>\n",
       "      <td>0.99996</td>\n",
       "      <td>7</td>\n",
       "      <td>33186210</td>\n",
       "    </tr>\n",
       "    <tr>\n",
       "      <th>7</th>\n",
       "      <td>7:33186317</td>\n",
       "      <td>8320025024</td>\n",
       "      <td>9088027334</td>\n",
       "      <td>0.14574</td>\n",
       "      <td>0.97877</td>\n",
       "      <td>7</td>\n",
       "      <td>33186317</td>\n",
       "    </tr>\n",
       "    <tr>\n",
       "      <th>8</th>\n",
       "      <td>7:33186329</td>\n",
       "      <td>8320025024</td>\n",
       "      <td>9088027334</td>\n",
       "      <td>0.20862</td>\n",
       "      <td>0.94544</td>\n",
       "      <td>7</td>\n",
       "      <td>33186329</td>\n",
       "    </tr>\n",
       "    <tr>\n",
       "      <th>9</th>\n",
       "      <td>7:33186353</td>\n",
       "      <td>9088027334</td>\n",
       "      <td>8576025794</td>\n",
       "      <td>0.18213</td>\n",
       "      <td>1.00034</td>\n",
       "      <td>7</td>\n",
       "      <td>33186353</td>\n",
       "    </tr>\n",
       "  </tbody>\n",
       "</table>\n",
       "</div>"
      ],
      "text/plain": [
       "           ID      allele1      allele2      MAF      Rsq CHR        bp\n",
       "0  7:33185035   8320025024   9088027334  0.18213  1.00034   7  33185035\n",
       "1  7:33185068   9088027334   8576025794  0.00461  0.22443   7  33185068\n",
       "2  7:33185609  10752032341   8576025794  0.18213  1.00034   7  33185609\n",
       "3  7:33186065  10752032341   9088027334  0.16056  0.89488   7  33186065\n",
       "4  7:33186066  10752032341   8320025024  0.15856  0.88030   7  33186066\n",
       "5  7:33186082   9088027334   8576025794  0.16195  0.99158   7  33186082\n",
       "6  7:33186210   8576025794  10752032341  0.22479  0.99996   7  33186210\n",
       "7  7:33186317   8320025024   9088027334  0.14574  0.97877   7  33186317\n",
       "8  7:33186329   8320025024   9088027334  0.20862  0.94544   7  33186329\n",
       "9  7:33186353   9088027334   8576025794  0.18213  1.00034   7  33186353"
      ]
     },
     "execution_count": 42,
     "metadata": {},
     "output_type": "execute_result"
    }
   ],
   "source": [
    "store=pd.HDFStore( '{}/probes_large.h5'.format(SummerSchool_PATH),'r' )\n",
    "store.select('probes',start=0,stop=10)"
   ]
  },
  {
   "cell_type": "code",
   "execution_count": 45,
   "metadata": {
    "ExecuteTime": {
     "end_time": "2018-08-16T22:33:22.427932Z",
     "start_time": "2018-08-16T22:33:22.401349Z"
    },
    "collapsed": false
   },
   "outputs": [
    {
     "data": {
      "text/html": [
       "<div>\n",
       "<table border=\"1\" class=\"dataframe\">\n",
       "  <thead>\n",
       "    <tr style=\"text-align: right;\">\n",
       "      <th></th>\n",
       "      <th>ID</th>\n",
       "      <th>allele1</th>\n",
       "      <th>allele2</th>\n",
       "      <th>MAF</th>\n",
       "      <th>Rsq</th>\n",
       "      <th>CHR</th>\n",
       "      <th>bp</th>\n",
       "    </tr>\n",
       "  </thead>\n",
       "  <tbody>\n",
       "    <tr>\n",
       "      <th>849094</th>\n",
       "      <td>20:39634366</td>\n",
       "      <td>8576025794</td>\n",
       "      <td>9088027334</td>\n",
       "      <td>0.43171</td>\n",
       "      <td>0.99698</td>\n",
       "      <td>20</td>\n",
       "      <td>39634366</td>\n",
       "    </tr>\n",
       "  </tbody>\n",
       "</table>\n",
       "</div>"
      ],
      "text/plain": [
       "                 ID     allele1     allele2      MAF      Rsq CHR        bp\n",
       "849094  20:39634366  8576025794  9088027334  0.43171  0.99698  20  39634366"
      ]
     },
     "execution_count": 45,
     "metadata": {},
     "output_type": "execute_result"
    }
   ],
   "source": [
    "store.select('probes',where='ID==\"20:39634366\"')"
   ]
  },
  {
   "cell_type": "code",
   "execution_count": 46,
   "metadata": {
    "ExecuteTime": {
     "end_time": "2018-08-16T22:33:41.837032Z",
     "start_time": "2018-08-16T22:33:40.768855Z"
    },
    "collapsed": false
   },
   "outputs": [
    {
     "data": {
      "text/plain": [
       "(184469, 7)"
      ]
     },
     "execution_count": 46,
     "metadata": {},
     "output_type": "execute_result"
    }
   ],
   "source": [
    "store.select('probes',where='CHR==22').shape"
   ]
  },
  {
   "cell_type": "code",
   "execution_count": null,
   "metadata": {
    "collapsed": true
   },
   "outputs": [],
   "source": []
  },
  {
   "cell_type": "markdown",
   "metadata": {},
   "source": [
    "# Genotypes"
   ]
  },
  {
   "cell_type": "markdown",
   "metadata": {},
   "source": [
    "## Study 2"
   ]
  },
  {
   "cell_type": "code",
   "execution_count": 15,
   "metadata": {
    "ExecuteTime": {
     "end_time": "2018-08-16T22:00:19.019586Z",
     "start_time": "2018-08-16T22:00:19.013477Z"
    },
    "collapsed": true
   },
   "outputs": [],
   "source": [
    "g_study_2=h5py.File('{}/{}/{}/genotype/0_{}.h5'.format(SummerSchool_PATH, study_2, study_2, study_2) ,'r')['genotype']"
   ]
  },
  {
   "cell_type": "code",
   "execution_count": 16,
   "metadata": {
    "ExecuteTime": {
     "end_time": "2018-08-16T22:00:20.044643Z",
     "start_time": "2018-08-16T22:00:19.572791Z"
    },
    "collapsed": false
   },
   "outputs": [
    {
     "name": "stdout",
     "output_type": "stream",
     "text": [
      "(25000, 1477)\n"
     ]
    }
   ],
   "source": [
    "g2=g_study_2[...]\n",
    "print g2.shape"
   ]
  },
  {
   "cell_type": "code",
   "execution_count": 17,
   "metadata": {
    "ExecuteTime": {
     "end_time": "2018-08-16T22:00:22.392782Z",
     "start_time": "2018-08-16T22:00:21.172023Z"
    },
    "collapsed": false
   },
   "outputs": [
    {
     "name": "stdout",
     "output_type": "stream",
     "text": [
      "[ 0.81787109  0.99511719  0.81787109 ...,  0.99511719  0.77880859\n",
      "  0.89501953]\n"
     ]
    },
    {
     "data": {
      "image/png": "[encoded data removed]",
      "text/plain": [
       "<matplotlib.figure.Figure at 0x2aaae548add0>"
      ]
     },
     "metadata": {},
     "output_type": "display_data"
    }
   ],
   "source": [
    "print g2.mean(axis=1)/2\n",
    "plt.hist(g2.mean(axis=1)/2,100);"
   ]
  },
  {
   "cell_type": "code",
   "execution_count": 19,
   "metadata": {
    "ExecuteTime": {
     "end_time": "2018-08-16T22:00:25.990173Z",
     "start_time": "2018-08-16T22:00:25.667347Z"
    },
    "collapsed": false
   },
   "outputs": [
    {
     "name": "stdout",
     "output_type": "stream",
     "text": [
      "0.8212890625\n"
     ]
    },
    {
     "data": {
      "image/png": "[encoded data removed]",
      "text/plain": [
       "<matplotlib.figure.Figure at 0x2aab269b8990>"
      ]
     },
     "metadata": {},
     "output_type": "display_data"
    }
   ],
   "source": [
    "print g2[13,:].mean()/2\n",
    "plt.hist(g2[13,:],30);"
   ]
  },
  {
   "cell_type": "code",
   "execution_count": null,
   "metadata": {
    "collapsed": true
   },
   "outputs": [],
   "source": []
  },
  {
   "cell_type": "markdown",
   "metadata": {},
   "source": [
    "# Polygenic Score"
   ]
  },
  {
   "cell_type": "code",
   "execution_count": 20,
   "metadata": {
    "ExecuteTime": {
     "end_time": "2018-08-16T22:00:42.829394Z",
     "start_time": "2018-08-16T22:00:42.790802Z"
    },
    "collapsed": false
   },
   "outputs": [
    {
     "name": "stdout",
     "output_type": "stream",
     "text": [
      "(3290, 10)\n"
     ]
    },
    {
     "data": {
      "text/html": [
       "<div>\n",
       "<table border=\"1\" class=\"dataframe\">\n",
       "  <thead>\n",
       "    <tr style=\"text-align: right;\">\n",
       "      <th></th>\n",
       "      <th>SNP</th>\n",
       "      <th>CHR</th>\n",
       "      <th>POS</th>\n",
       "      <th>Tested_Allele</th>\n",
       "      <th>Other_Allele</th>\n",
       "      <th>Freq_Tested_Allele_in_HRS</th>\n",
       "      <th>BETA</th>\n",
       "      <th>SE</th>\n",
       "      <th>P</th>\n",
       "      <th>N</th>\n",
       "    </tr>\n",
       "  </thead>\n",
       "  <tbody>\n",
       "    <tr>\n",
       "      <th>0</th>\n",
       "      <td>rs10003497</td>\n",
       "      <td>4</td>\n",
       "      <td>88429759</td>\n",
       "      <td>A</td>\n",
       "      <td>G</td>\n",
       "      <td>0.63800</td>\n",
       "      <td>-0.0016</td>\n",
       "      <td>0.0016</td>\n",
       "      <td>3.400000e-01</td>\n",
       "      <td>551351</td>\n",
       "    </tr>\n",
       "    <tr>\n",
       "      <th>1</th>\n",
       "      <td>rs1000410</td>\n",
       "      <td>20</td>\n",
       "      <td>39634366</td>\n",
       "      <td>C</td>\n",
       "      <td>G</td>\n",
       "      <td>0.56250</td>\n",
       "      <td>-0.0009</td>\n",
       "      <td>0.0015</td>\n",
       "      <td>5.500000e-01</td>\n",
       "      <td>704651</td>\n",
       "    </tr>\n",
       "    <tr>\n",
       "      <th>2</th>\n",
       "      <td>rs10008015</td>\n",
       "      <td>4</td>\n",
       "      <td>106005247</td>\n",
       "      <td>T</td>\n",
       "      <td>C</td>\n",
       "      <td>0.89140</td>\n",
       "      <td>0.0270</td>\n",
       "      <td>0.0024</td>\n",
       "      <td>1.400000e-29</td>\n",
       "      <td>684963</td>\n",
       "    </tr>\n",
       "    <tr>\n",
       "      <th>3</th>\n",
       "      <td>rs10010325</td>\n",
       "      <td>4</td>\n",
       "      <td>106106353</td>\n",
       "      <td>A</td>\n",
       "      <td>C</td>\n",
       "      <td>0.49260</td>\n",
       "      <td>0.0289</td>\n",
       "      <td>0.0014</td>\n",
       "      <td>6.800000e-89</td>\n",
       "      <td>705291</td>\n",
       "    </tr>\n",
       "    <tr>\n",
       "      <th>4</th>\n",
       "      <td>rs10016290</td>\n",
       "      <td>4</td>\n",
       "      <td>13525398</td>\n",
       "      <td>T</td>\n",
       "      <td>G</td>\n",
       "      <td>0.90225</td>\n",
       "      <td>0.0083</td>\n",
       "      <td>0.0024</td>\n",
       "      <td>4.500000e-04</td>\n",
       "      <td>696520</td>\n",
       "    </tr>\n",
       "  </tbody>\n",
       "</table>\n",
       "</div>"
      ],
      "text/plain": [
       "          SNP  CHR        POS Tested_Allele Other_Allele  \\\n",
       "0  rs10003497    4   88429759             A            G   \n",
       "1   rs1000410   20   39634366             C            G   \n",
       "2  rs10008015    4  106005247             T            C   \n",
       "3  rs10010325    4  106106353             A            C   \n",
       "4  rs10016290    4   13525398             T            G   \n",
       "\n",
       "   Freq_Tested_Allele_in_HRS    BETA      SE             P       N  \n",
       "0                    0.63800 -0.0016  0.0016  3.400000e-01  551351  \n",
       "1                    0.56250 -0.0009  0.0015  5.500000e-01  704651  \n",
       "2                    0.89140  0.0270  0.0024  1.400000e-29  684963  \n",
       "3                    0.49260  0.0289  0.0014  6.800000e-89  705291  \n",
       "4                    0.90225  0.0083  0.0024  4.500000e-04  696520  "
      ]
     },
     "execution_count": 20,
     "metadata": {},
     "output_type": "execute_result"
    }
   ],
   "source": [
    "df_height_gwas=pd.read_csv('{}/height_GWAS_Wood_2018.txt'.format(SummerSchool_PATH),sep=' ')\n",
    "print df_height_gwas.shape\n",
    "df_height_gwas.head()"
   ]
  },
  {
   "cell_type": "code",
   "execution_count": 21,
   "metadata": {
    "ExecuteTime": {
     "end_time": "2018-08-16T22:00:45.032106Z",
     "start_time": "2018-08-16T22:00:44.739766Z"
    },
    "collapsed": false
   },
   "outputs": [],
   "source": [
    "df_height_gwas['MarkerName']=df_height_gwas.apply(lambda x : \"{}:{}\".format(x.CHR,x.POS), axis=1)"
   ]
  },
  {
   "cell_type": "code",
   "execution_count": 22,
   "metadata": {
    "ExecuteTime": {
     "end_time": "2018-08-16T22:00:46.104549Z",
     "start_time": "2018-08-16T22:00:46.071883Z"
    },
    "collapsed": false
   },
   "outputs": [
    {
     "data": {
      "text/html": [
       "<div>\n",
       "<table border=\"1\" class=\"dataframe\">\n",
       "  <thead>\n",
       "    <tr style=\"text-align: right;\">\n",
       "      <th></th>\n",
       "      <th>SNP</th>\n",
       "      <th>CHR</th>\n",
       "      <th>POS</th>\n",
       "      <th>Tested_Allele</th>\n",
       "      <th>Other_Allele</th>\n",
       "      <th>Freq_Tested_Allele_in_HRS</th>\n",
       "      <th>BETA</th>\n",
       "      <th>SE</th>\n",
       "      <th>P</th>\n",
       "      <th>N</th>\n",
       "      <th>MarkerName</th>\n",
       "    </tr>\n",
       "  </thead>\n",
       "  <tbody>\n",
       "    <tr>\n",
       "      <th>0</th>\n",
       "      <td>rs10003497</td>\n",
       "      <td>4</td>\n",
       "      <td>88429759</td>\n",
       "      <td>A</td>\n",
       "      <td>G</td>\n",
       "      <td>0.63800</td>\n",
       "      <td>-0.0016</td>\n",
       "      <td>0.0016</td>\n",
       "      <td>3.400000e-01</td>\n",
       "      <td>551351</td>\n",
       "      <td>4:88429759</td>\n",
       "    </tr>\n",
       "    <tr>\n",
       "      <th>1</th>\n",
       "      <td>rs1000410</td>\n",
       "      <td>20</td>\n",
       "      <td>39634366</td>\n",
       "      <td>C</td>\n",
       "      <td>G</td>\n",
       "      <td>0.56250</td>\n",
       "      <td>-0.0009</td>\n",
       "      <td>0.0015</td>\n",
       "      <td>5.500000e-01</td>\n",
       "      <td>704651</td>\n",
       "      <td>20:39634366</td>\n",
       "    </tr>\n",
       "    <tr>\n",
       "      <th>2</th>\n",
       "      <td>rs10008015</td>\n",
       "      <td>4</td>\n",
       "      <td>106005247</td>\n",
       "      <td>T</td>\n",
       "      <td>C</td>\n",
       "      <td>0.89140</td>\n",
       "      <td>0.0270</td>\n",
       "      <td>0.0024</td>\n",
       "      <td>1.400000e-29</td>\n",
       "      <td>684963</td>\n",
       "      <td>4:106005247</td>\n",
       "    </tr>\n",
       "    <tr>\n",
       "      <th>3</th>\n",
       "      <td>rs10010325</td>\n",
       "      <td>4</td>\n",
       "      <td>106106353</td>\n",
       "      <td>A</td>\n",
       "      <td>C</td>\n",
       "      <td>0.49260</td>\n",
       "      <td>0.0289</td>\n",
       "      <td>0.0014</td>\n",
       "      <td>6.800000e-89</td>\n",
       "      <td>705291</td>\n",
       "      <td>4:106106353</td>\n",
       "    </tr>\n",
       "    <tr>\n",
       "      <th>4</th>\n",
       "      <td>rs10016290</td>\n",
       "      <td>4</td>\n",
       "      <td>13525398</td>\n",
       "      <td>T</td>\n",
       "      <td>G</td>\n",
       "      <td>0.90225</td>\n",
       "      <td>0.0083</td>\n",
       "      <td>0.0024</td>\n",
       "      <td>4.500000e-04</td>\n",
       "      <td>696520</td>\n",
       "      <td>4:13525398</td>\n",
       "    </tr>\n",
       "  </tbody>\n",
       "</table>\n",
       "</div>"
      ],
      "text/plain": [
       "          SNP  CHR        POS Tested_Allele Other_Allele  \\\n",
       "0  rs10003497    4   88429759             A            G   \n",
       "1   rs1000410   20   39634366             C            G   \n",
       "2  rs10008015    4  106005247             T            C   \n",
       "3  rs10010325    4  106106353             A            C   \n",
       "4  rs10016290    4   13525398             T            G   \n",
       "\n",
       "   Freq_Tested_Allele_in_HRS    BETA      SE             P       N  \\\n",
       "0                    0.63800 -0.0016  0.0016  3.400000e-01  551351   \n",
       "1                    0.56250 -0.0009  0.0015  5.500000e-01  704651   \n",
       "2                    0.89140  0.0270  0.0024  1.400000e-29  684963   \n",
       "3                    0.49260  0.0289  0.0014  6.800000e-89  705291   \n",
       "4                    0.90225  0.0083  0.0024  4.500000e-04  696520   \n",
       "\n",
       "    MarkerName  \n",
       "0   4:88429759  \n",
       "1  20:39634366  \n",
       "2  4:106005247  \n",
       "3  4:106106353  \n",
       "4   4:13525398  "
      ]
     },
     "execution_count": 22,
     "metadata": {},
     "output_type": "execute_result"
    }
   ],
   "source": [
    "df_height_gwas.head()"
   ]
  },
  {
   "cell_type": "code",
   "execution_count": 23,
   "metadata": {
    "ExecuteTime": {
     "end_time": "2018-08-16T22:00:50.209545Z",
     "start_time": "2018-08-16T22:00:49.681812Z"
    },
    "collapsed": false
   },
   "outputs": [],
   "source": [
    "store=pd.HDFStore( '{}/{}/{}/probes/{}.h5'.format(SummerSchool_PATH,study_2,study_2,study_2),'r' )\n",
    "df_lead_snps_info=store.select('probes',where='ID=={}'.format(df_height_gwas.MarkerName.tolist()))\n",
    "store.close()"
   ]
  },
  {
   "cell_type": "code",
   "execution_count": 25,
   "metadata": {
    "ExecuteTime": {
     "end_time": "2018-08-16T22:01:04.214455Z",
     "start_time": "2018-08-16T22:01:04.089347Z"
    },
    "collapsed": false
   },
   "outputs": [
    {
     "name": "stdout",
     "output_type": "stream",
     "text": [
      "(12, 7)\n"
     ]
    },
    {
     "data": {
      "text/html": [
       "<div>\n",
       "<table border=\"1\" class=\"dataframe\">\n",
       "  <thead>\n",
       "    <tr style=\"text-align: right;\">\n",
       "      <th></th>\n",
       "      <th>ID</th>\n",
       "      <th>allele1</th>\n",
       "      <th>allele2</th>\n",
       "      <th>MAF</th>\n",
       "      <th>Rsq</th>\n",
       "      <th>CHR</th>\n",
       "      <th>bp</th>\n",
       "    </tr>\n",
       "  </thead>\n",
       "  <tbody>\n",
       "    <tr>\n",
       "      <th>24619</th>\n",
       "      <td>7:38029785</td>\n",
       "      <td>9088027334</td>\n",
       "      <td>10752032341</td>\n",
       "      <td>0.15876</td>\n",
       "      <td>1.00024</td>\n",
       "      <td>7</td>\n",
       "      <td>38029785</td>\n",
       "    </tr>\n",
       "    <tr>\n",
       "      <th>25059</th>\n",
       "      <td>7:38110073</td>\n",
       "      <td>10752032341</td>\n",
       "      <td>8320025024</td>\n",
       "      <td>0.33225</td>\n",
       "      <td>0.99981</td>\n",
       "      <td>7</td>\n",
       "      <td>38110073</td>\n",
       "    </tr>\n",
       "    <tr>\n",
       "      <th>43600</th>\n",
       "      <td>7:42096266</td>\n",
       "      <td>10752032341</td>\n",
       "      <td>8576025794</td>\n",
       "      <td>0.48073</td>\n",
       "      <td>0.98599</td>\n",
       "      <td>7</td>\n",
       "      <td>42096266</td>\n",
       "    </tr>\n",
       "    <tr>\n",
       "      <th>44096</th>\n",
       "      <td>7:42188538</td>\n",
       "      <td>8576025794</td>\n",
       "      <td>8320025024</td>\n",
       "      <td>0.19634</td>\n",
       "      <td>0.99986</td>\n",
       "      <td>7</td>\n",
       "      <td>42188538</td>\n",
       "    </tr>\n",
       "    <tr>\n",
       "      <th>48842</th>\n",
       "      <td>7:43114515</td>\n",
       "      <td>8576025794</td>\n",
       "      <td>10752032341</td>\n",
       "      <td>0.27099</td>\n",
       "      <td>0.98086</td>\n",
       "      <td>7</td>\n",
       "      <td>43114515</td>\n",
       "    </tr>\n",
       "  </tbody>\n",
       "</table>\n",
       "</div>"
      ],
      "text/plain": [
       "               ID      allele1      allele2      MAF      Rsq  CHR        bp\n",
       "24619  7:38029785   9088027334  10752032341  0.15876  1.00024    7  38029785\n",
       "25059  7:38110073  10752032341   8320025024  0.33225  0.99981    7  38110073\n",
       "43600  7:42096266  10752032341   8576025794  0.48073  0.98599    7  42096266\n",
       "44096  7:42188538   8576025794   8320025024  0.19634  0.99986    7  42188538\n",
       "48842  7:43114515   8576025794  10752032341  0.27099  0.98086    7  43114515"
      ]
     },
     "execution_count": 25,
     "metadata": {},
     "output_type": "execute_result"
    }
   ],
   "source": [
    "print df_lead_snps_info.shape\n",
    "df_lead_snps_info.tail()"
   ]
  },
  {
   "cell_type": "code",
   "execution_count": 26,
   "metadata": {
    "ExecuteTime": {
     "end_time": "2018-08-16T22:01:06.852739Z",
     "start_time": "2018-08-16T22:01:06.770899Z"
    },
    "collapsed": false
   },
   "outputs": [],
   "source": [
    "df_lead_snps_info['A1']=get_alleles( df_lead_snps_info.allele1 ,df_hash_2  ) \n",
    "df_lead_snps_info['A2']=get_alleles( df_lead_snps_info.allele2 ,df_hash_2  )"
   ]
  },
  {
   "cell_type": "code",
   "execution_count": 27,
   "metadata": {
    "ExecuteTime": {
     "end_time": "2018-08-16T22:01:07.725726Z",
     "start_time": "2018-08-16T22:01:07.700621Z"
    },
    "collapsed": false
   },
   "outputs": [
    {
     "data": {
      "text/html": [
       "<div>\n",
       "<table border=\"1\" class=\"dataframe\">\n",
       "  <thead>\n",
       "    <tr style=\"text-align: right;\">\n",
       "      <th></th>\n",
       "      <th>ID</th>\n",
       "      <th>allele1</th>\n",
       "      <th>allele2</th>\n",
       "      <th>MAF</th>\n",
       "      <th>Rsq</th>\n",
       "      <th>CHR</th>\n",
       "      <th>bp</th>\n",
       "      <th>A1</th>\n",
       "      <th>A2</th>\n",
       "    </tr>\n",
       "  </thead>\n",
       "  <tbody>\n",
       "    <tr>\n",
       "      <th>1067</th>\n",
       "      <td>7:33395764</td>\n",
       "      <td>9088027334</td>\n",
       "      <td>8576025794</td>\n",
       "      <td>0.08172</td>\n",
       "      <td>0.57776</td>\n",
       "      <td>7</td>\n",
       "      <td>33395764</td>\n",
       "      <td>G</td>\n",
       "      <td>C</td>\n",
       "    </tr>\n",
       "    <tr>\n",
       "      <th>2396</th>\n",
       "      <td>7:33666421</td>\n",
       "      <td>9088027334</td>\n",
       "      <td>8320025024</td>\n",
       "      <td>0.23935</td>\n",
       "      <td>0.99354</td>\n",
       "      <td>7</td>\n",
       "      <td>33666421</td>\n",
       "      <td>G</td>\n",
       "      <td>C</td>\n",
       "    </tr>\n",
       "    <tr>\n",
       "      <th>3238</th>\n",
       "      <td>7:33830300</td>\n",
       "      <td>8320025024</td>\n",
       "      <td>9088027334</td>\n",
       "      <td>0.23070</td>\n",
       "      <td>0.98499</td>\n",
       "      <td>7</td>\n",
       "      <td>33830300</td>\n",
       "      <td>G</td>\n",
       "      <td>C</td>\n",
       "    </tr>\n",
       "    <tr>\n",
       "      <th>14270</th>\n",
       "      <td>7:36081175</td>\n",
       "      <td>8320025024</td>\n",
       "      <td>8576025794</td>\n",
       "      <td>0.22028</td>\n",
       "      <td>0.97942</td>\n",
       "      <td>7</td>\n",
       "      <td>36081175</td>\n",
       "      <td>A</td>\n",
       "      <td>C</td>\n",
       "    </tr>\n",
       "    <tr>\n",
       "      <th>21172</th>\n",
       "      <td>7:37395373</td>\n",
       "      <td>10752032341</td>\n",
       "      <td>8576025794</td>\n",
       "      <td>0.28967</td>\n",
       "      <td>0.93596</td>\n",
       "      <td>7</td>\n",
       "      <td>37395373</td>\n",
       "      <td>A</td>\n",
       "      <td>C</td>\n",
       "    </tr>\n",
       "  </tbody>\n",
       "</table>\n",
       "</div>"
      ],
      "text/plain": [
       "               ID      allele1     allele2      MAF      Rsq  CHR        bp  \\\n",
       "1067   7:33395764   9088027334  8576025794  0.08172  0.57776    7  33395764   \n",
       "2396   7:33666421   9088027334  8320025024  0.23935  0.99354    7  33666421   \n",
       "3238   7:33830300   8320025024  9088027334  0.23070  0.98499    7  33830300   \n",
       "14270  7:36081175   8320025024  8576025794  0.22028  0.97942    7  36081175   \n",
       "21172  7:37395373  10752032341  8576025794  0.28967  0.93596    7  37395373   \n",
       "\n",
       "      A1 A2  \n",
       "1067   G  C  \n",
       "2396   G  C  \n",
       "3238   G  C  \n",
       "14270  A  C  \n",
       "21172  A  C  "
      ]
     },
     "execution_count": 27,
     "metadata": {},
     "output_type": "execute_result"
    }
   ],
   "source": [
    "df_lead_snps_info.head()"
   ]
  },
  {
   "cell_type": "code",
   "execution_count": 35,
   "metadata": {
    "ExecuteTime": {
     "end_time": "2018-08-16T22:08:28.976623Z",
     "start_time": "2018-08-16T22:08:28.618743Z"
    },
    "collapsed": false
   },
   "outputs": [],
   "source": [
    "df_snps=get_snps(df_height_gwas.MarkerName.tolist(), study_path='{}/{}/{}/'.format(SummerSchool_PATH,study_2,study_2), study_name='study_2')"
   ]
  },
  {
   "cell_type": "code",
   "execution_count": 36,
   "metadata": {
    "ExecuteTime": {
     "end_time": "2018-08-16T22:08:30.619801Z",
     "start_time": "2018-08-16T22:08:30.582588Z"
    },
    "collapsed": false
   },
   "outputs": [
    {
     "data": {
      "text/html": [
       "<div>\n",
       "<table border=\"1\" class=\"dataframe\">\n",
       "  <thead>\n",
       "    <tr style=\"text-align: right;\">\n",
       "      <th></th>\n",
       "      <th>7:33395764</th>\n",
       "      <th>7:33666421</th>\n",
       "      <th>7:33830300</th>\n",
       "      <th>7:36081175</th>\n",
       "      <th>7:37395373</th>\n",
       "      <th>7:37972827</th>\n",
       "      <th>7:37977116</th>\n",
       "      <th>7:38029785</th>\n",
       "      <th>7:38110073</th>\n",
       "      <th>7:42096266</th>\n",
       "      <th>7:42188538</th>\n",
       "      <th>7:43114515</th>\n",
       "      <th>id</th>\n",
       "    </tr>\n",
       "  </thead>\n",
       "  <tbody>\n",
       "    <tr>\n",
       "      <th>0</th>\n",
       "      <td>1.700195</td>\n",
       "      <td>1.0</td>\n",
       "      <td>2.000000</td>\n",
       "      <td>2.000000</td>\n",
       "      <td>1.373047</td>\n",
       "      <td>1.0</td>\n",
       "      <td>1.996094</td>\n",
       "      <td>2.0</td>\n",
       "      <td>2.0</td>\n",
       "      <td>1.000000</td>\n",
       "      <td>1.0</td>\n",
       "      <td>0.267090</td>\n",
       "      <td>study_2_0</td>\n",
       "    </tr>\n",
       "    <tr>\n",
       "      <th>1</th>\n",
       "      <td>1.931641</td>\n",
       "      <td>2.0</td>\n",
       "      <td>1.001953</td>\n",
       "      <td>1.009766</td>\n",
       "      <td>1.000000</td>\n",
       "      <td>2.0</td>\n",
       "      <td>1.006836</td>\n",
       "      <td>2.0</td>\n",
       "      <td>1.0</td>\n",
       "      <td>0.000000</td>\n",
       "      <td>1.0</td>\n",
       "      <td>1.000000</td>\n",
       "      <td>study_2_1</td>\n",
       "    </tr>\n",
       "    <tr>\n",
       "      <th>2</th>\n",
       "      <td>2.000000</td>\n",
       "      <td>2.0</td>\n",
       "      <td>2.000000</td>\n",
       "      <td>1.999023</td>\n",
       "      <td>1.000000</td>\n",
       "      <td>1.0</td>\n",
       "      <td>1.992188</td>\n",
       "      <td>2.0</td>\n",
       "      <td>2.0</td>\n",
       "      <td>1.000000</td>\n",
       "      <td>2.0</td>\n",
       "      <td>0.998047</td>\n",
       "      <td>study_2_2</td>\n",
       "    </tr>\n",
       "    <tr>\n",
       "      <th>3</th>\n",
       "      <td>1.889648</td>\n",
       "      <td>1.0</td>\n",
       "      <td>1.000977</td>\n",
       "      <td>2.000000</td>\n",
       "      <td>0.999023</td>\n",
       "      <td>1.0</td>\n",
       "      <td>1.992188</td>\n",
       "      <td>2.0</td>\n",
       "      <td>1.0</td>\n",
       "      <td>1.999023</td>\n",
       "      <td>1.0</td>\n",
       "      <td>1.000000</td>\n",
       "      <td>study_2_3</td>\n",
       "    </tr>\n",
       "    <tr>\n",
       "      <th>4</th>\n",
       "      <td>1.821289</td>\n",
       "      <td>2.0</td>\n",
       "      <td>2.000000</td>\n",
       "      <td>1.000977</td>\n",
       "      <td>2.000000</td>\n",
       "      <td>2.0</td>\n",
       "      <td>1.993164</td>\n",
       "      <td>2.0</td>\n",
       "      <td>1.0</td>\n",
       "      <td>0.999023</td>\n",
       "      <td>2.0</td>\n",
       "      <td>2.000000</td>\n",
       "      <td>study_2_4</td>\n",
       "    </tr>\n",
       "  </tbody>\n",
       "</table>\n",
       "</div>"
      ],
      "text/plain": [
       "   7:33395764  7:33666421  7:33830300  7:36081175  7:37395373  7:37972827  \\\n",
       "0    1.700195         1.0    2.000000    2.000000    1.373047         1.0   \n",
       "1    1.931641         2.0    1.001953    1.009766    1.000000         2.0   \n",
       "2    2.000000         2.0    2.000000    1.999023    1.000000         1.0   \n",
       "3    1.889648         1.0    1.000977    2.000000    0.999023         1.0   \n",
       "4    1.821289         2.0    2.000000    1.000977    2.000000         2.0   \n",
       "\n",
       "   7:37977116  7:38029785  7:38110073  7:42096266  7:42188538  7:43114515  \\\n",
       "0    1.996094         2.0         2.0    1.000000         1.0    0.267090   \n",
       "1    1.006836         2.0         1.0    0.000000         1.0    1.000000   \n",
       "2    1.992188         2.0         2.0    1.000000         2.0    0.998047   \n",
       "3    1.992188         2.0         1.0    1.999023         1.0    1.000000   \n",
       "4    1.993164         2.0         1.0    0.999023         2.0    2.000000   \n",
       "\n",
       "          id  \n",
       "0  study_2_0  \n",
       "1  study_2_1  \n",
       "2  study_2_2  \n",
       "3  study_2_3  \n",
       "4  study_2_4  "
      ]
     },
     "execution_count": 36,
     "metadata": {},
     "output_type": "execute_result"
    }
   ],
   "source": [
    "df_snps.head()"
   ]
  },
  {
   "cell_type": "code",
   "execution_count": 37,
   "metadata": {
    "ExecuteTime": {
     "end_time": "2018-08-16T22:08:34.796717Z",
     "start_time": "2018-08-16T22:08:34.774523Z"
    },
    "collapsed": false
   },
   "outputs": [
    {
     "data": {
      "text/plain": [
       "7:33395764    0.918289\n",
       "7:33666421    0.760681\n",
       "7:33830300    0.769301\n",
       "7:36081175    0.779722\n",
       "7:37395373    0.710343\n",
       "7:37972827    0.619726\n",
       "7:37977116    0.850202\n",
       "7:38029785    0.841242\n",
       "7:38110073    0.667755\n",
       "7:42096266    0.519272\n",
       "7:42188538    0.803658\n",
       "7:43114515    0.729030\n",
       "dtype: float64"
      ]
     },
     "execution_count": 37,
     "metadata": {},
     "output_type": "execute_result"
    }
   ],
   "source": [
    "(df_snps.mean(axis=0)/2)"
   ]
  },
  {
   "cell_type": "code",
   "execution_count": 38,
   "metadata": {
    "ExecuteTime": {
     "end_time": "2018-08-16T22:08:38.526080Z",
     "start_time": "2018-08-16T22:08:38.517396Z"
    },
    "collapsed": false
   },
   "outputs": [],
   "source": [
    "PGS_SNPs=df_snps.columns[df_snps.columns!='id']\n",
    "\n",
    "PGS=np.dot( df_height_gwas[df_height_gwas.MarkerName.isin(PGS_SNPs)].BETA ,  df_snps[PGS_SNPs].T  )"
   ]
  },
  {
   "cell_type": "code",
   "execution_count": 39,
   "metadata": {
    "ExecuteTime": {
     "end_time": "2018-08-16T22:08:39.809997Z",
     "start_time": "2018-08-16T22:08:39.466372Z"
    },
    "collapsed": false
   },
   "outputs": [
    {
     "data": {
      "image/png": "[encoded data removed]",
      "text/plain": [
       "<matplotlib.figure.Figure at 0x2aab26ad9750>"
      ]
     },
     "metadata": {},
     "output_type": "display_data"
    }
   ],
   "source": [
    "plt.hist(PGS,bins=30);"
   ]
  },
  {
   "cell_type": "code",
   "execution_count": null,
   "metadata": {
    "collapsed": true
   },
   "outputs": [],
   "source": []
  }
 ],
 "metadata": {
  "kernelspec": {
   "display_name": "Python 2",
   "language": "python",
   "name": "python2"
  },
  "toc": {
   "nav_menu": {},
   "number_sections": true,
   "sideBar": true,
   "skip_h1_title": false,
   "toc_cell": false,
   "toc_position": {
    "height": "867px",
    "left": "0px",
    "right": "1708px",
    "top": "107px",
    "width": "212px"
   },
   "toc_section_display": "block",
   "toc_window_display": true
  },
  "varInspector": {
   "cols": {
    "lenName": 16,
    "lenType": 16,
    "lenVar": 40
   },
   "kernels_config": {
    "python": {
     "delete_cmd_postfix": "",
     "delete_cmd_prefix": "del ",
     "library": "var_list.py",
     "varRefreshCmd": "print(var_dic_list())"
    },
    "r": {
     "delete_cmd_postfix": ") ",
     "delete_cmd_prefix": "rm(",
     "library": "var_list.r",
     "varRefreshCmd": "cat(var_dic_list()) "
    }
   },
   "types_to_exclude": [
    "module",
    "function",
    "builtin_function_or_method",
    "instance",
    "_Feature"
   ],
   "window_display": false
  }
 },
 "nbformat": 4,
 "nbformat_minor": 1
}
