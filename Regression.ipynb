{
 "cells": [
  {
   "cell_type": "markdown",
   "metadata": {},
   "source": [
    "# Import "
   ]
  },
  {
   "cell_type": "code",
   "execution_count": 1,
   "metadata": {
    "ExecuteTime": {
     "end_time": "2018-08-16T22:09:00.630782Z",
     "start_time": "2018-08-16T22:08:59.332423Z"
    },
    "collapsed": true
   },
   "outputs": [],
   "source": [
    "import numpy as np\n",
    "import pandas as pd\n",
    "import os\n",
    "import sys\n",
    "import h5py\n",
    "import tables\n",
    "import shutil\n",
    "import matplotlib.pyplot as plt\n",
    "%matplotlib inline\n",
    "from scipy import stats"
   ]
  },
  {
   "cell_type": "markdown",
   "metadata": {
    "ExecuteTime": {
     "end_time": "2018-08-16T20:43:54.294780Z",
     "start_time": "2018-08-16T20:43:54.291753Z"
    }
   },
   "source": [
    "# Global variables "
   ]
  },
  {
   "cell_type": "code",
   "execution_count": 2,
   "metadata": {
    "ExecuteTime": {
     "end_time": "2018-08-16T22:09:00.646409Z",
     "start_time": "2018-08-16T22:09:00.643617Z"
    },
    "collapsed": true
   },
   "outputs": [],
   "source": [
    "SummerSchool_PATH='/scratch/groshchupkin/Students/Cognomics_SummerSchool_2018/'"
   ]
  },
  {
   "cell_type": "code",
   "execution_count": 3,
   "metadata": {
    "ExecuteTime": {
     "end_time": "2018-08-16T22:09:00.662273Z",
     "start_time": "2018-08-16T22:09:00.659166Z"
    },
    "collapsed": true
   },
   "outputs": [],
   "source": [
    "study_1='study_1'\n",
    "study_2='study_2'"
   ]
  },
  {
   "cell_type": "code",
   "execution_count": 13,
   "metadata": {
    "ExecuteTime": {
     "end_time": "2018-08-16T22:12:30.185773Z",
     "start_time": "2018-08-16T22:12:30.182517Z"
    },
    "collapsed": true
   },
   "outputs": [],
   "source": [
    "HASE_PATH='/scratch/groshchupkin/Students/Cognomics_SummerSchool_2018/hase/'"
   ]
  },
  {
   "cell_type": "markdown",
   "metadata": {},
   "source": [
    "# Data QC "
   ]
  },
  {
   "cell_type": "code",
   "execution_count": 4,
   "metadata": {
    "ExecuteTime": {
     "end_time": "2018-08-16T22:09:18.959521Z",
     "start_time": "2018-08-16T22:09:18.934544Z"
    },
    "collapsed": false
   },
   "outputs": [
    {
     "name": "stdout",
     "output_type": "stream",
     "text": [
      "(1200, 4)\n"
     ]
    },
    {
     "data": {
      "text/html": [
       "<div>\n",
       "<table border=\"1\" class=\"dataframe\">\n",
       "  <thead>\n",
       "    <tr style=\"text-align: right;\">\n",
       "      <th></th>\n",
       "      <th>id</th>\n",
       "      <th>sex</th>\n",
       "      <th>age</th>\n",
       "      <th>height</th>\n",
       "    </tr>\n",
       "  </thead>\n",
       "  <tbody>\n",
       "    <tr>\n",
       "      <th>0</th>\n",
       "      <td>study_2_0</td>\n",
       "      <td>1</td>\n",
       "      <td>45.464192</td>\n",
       "      <td>156.185172</td>\n",
       "    </tr>\n",
       "    <tr>\n",
       "      <th>1</th>\n",
       "      <td>study_2_1</td>\n",
       "      <td>1</td>\n",
       "      <td>56.709294</td>\n",
       "      <td>137.955759</td>\n",
       "    </tr>\n",
       "    <tr>\n",
       "      <th>2</th>\n",
       "      <td>study_2_2</td>\n",
       "      <td>1</td>\n",
       "      <td>48.622447</td>\n",
       "      <td>229.814742</td>\n",
       "    </tr>\n",
       "    <tr>\n",
       "      <th>3</th>\n",
       "      <td>study_2_3</td>\n",
       "      <td>1</td>\n",
       "      <td>58.660750</td>\n",
       "      <td>139.418125</td>\n",
       "    </tr>\n",
       "    <tr>\n",
       "      <th>4</th>\n",
       "      <td>study_2_4</td>\n",
       "      <td>1</td>\n",
       "      <td>52.370209</td>\n",
       "      <td>182.369976</td>\n",
       "    </tr>\n",
       "  </tbody>\n",
       "</table>\n",
       "</div>"
      ],
      "text/plain": [
       "          id  sex        age      height\n",
       "0  study_2_0    1  45.464192  156.185172\n",
       "1  study_2_1    1  56.709294  137.955759\n",
       "2  study_2_2    1  48.622447  229.814742\n",
       "3  study_2_3    1  58.660750  139.418125\n",
       "4  study_2_4    1  52.370209  182.369976"
      ]
     },
     "execution_count": 4,
     "metadata": {},
     "output_type": "execute_result"
    }
   ],
   "source": [
    "df_cov_study_2=pd.read_csv('{}/{}/covariates/study_2.txt'.format(SummerSchool_PATH,study_2),sep='\\t')\n",
    "print df_cov_study_2.shape\n",
    "df_cov_study_2.head()"
   ]
  },
  {
   "cell_type": "code",
   "execution_count": 5,
   "metadata": {
    "ExecuteTime": {
     "end_time": "2018-08-16T22:09:22.125704Z",
     "start_time": "2018-08-16T22:09:22.100810Z"
    },
    "collapsed": false
   },
   "outputs": [
    {
     "data": {
      "text/html": [
       "<div>\n",
       "<table border=\"1\" class=\"dataframe\">\n",
       "  <thead>\n",
       "    <tr style=\"text-align: right;\">\n",
       "      <th></th>\n",
       "      <th>sex</th>\n",
       "      <th>age</th>\n",
       "      <th>height</th>\n",
       "    </tr>\n",
       "  </thead>\n",
       "  <tbody>\n",
       "    <tr>\n",
       "      <th>count</th>\n",
       "      <td>1200.000000</td>\n",
       "      <td>1200.000000</td>\n",
       "      <td>1200.000000</td>\n",
       "    </tr>\n",
       "    <tr>\n",
       "      <th>mean</th>\n",
       "      <td>0.536667</td>\n",
       "      <td>49.980146</td>\n",
       "      <td>159.429317</td>\n",
       "    </tr>\n",
       "    <tr>\n",
       "      <th>std</th>\n",
       "      <td>0.498862</td>\n",
       "      <td>5.765133</td>\n",
       "      <td>20.162380</td>\n",
       "    </tr>\n",
       "    <tr>\n",
       "      <th>min</th>\n",
       "      <td>0.000000</td>\n",
       "      <td>40.003715</td>\n",
       "      <td>95.325739</td>\n",
       "    </tr>\n",
       "    <tr>\n",
       "      <th>25%</th>\n",
       "      <td>0.000000</td>\n",
       "      <td>45.104445</td>\n",
       "      <td>145.827254</td>\n",
       "    </tr>\n",
       "    <tr>\n",
       "      <th>50%</th>\n",
       "      <td>1.000000</td>\n",
       "      <td>49.794544</td>\n",
       "      <td>159.528628</td>\n",
       "    </tr>\n",
       "    <tr>\n",
       "      <th>75%</th>\n",
       "      <td>1.000000</td>\n",
       "      <td>55.011698</td>\n",
       "      <td>173.260660</td>\n",
       "    </tr>\n",
       "    <tr>\n",
       "      <th>max</th>\n",
       "      <td>1.000000</td>\n",
       "      <td>59.991642</td>\n",
       "      <td>229.814742</td>\n",
       "    </tr>\n",
       "  </tbody>\n",
       "</table>\n",
       "</div>"
      ],
      "text/plain": [
       "               sex          age       height\n",
       "count  1200.000000  1200.000000  1200.000000\n",
       "mean      0.536667    49.980146   159.429317\n",
       "std       0.498862     5.765133    20.162380\n",
       "min       0.000000    40.003715    95.325739\n",
       "25%       0.000000    45.104445   145.827254\n",
       "50%       1.000000    49.794544   159.528628\n",
       "75%       1.000000    55.011698   173.260660\n",
       "max       1.000000    59.991642   229.814742"
      ]
     },
     "execution_count": 5,
     "metadata": {},
     "output_type": "execute_result"
    }
   ],
   "source": [
    "df_cov_study_2.describe()"
   ]
  },
  {
   "cell_type": "code",
   "execution_count": 6,
   "metadata": {
    "ExecuteTime": {
     "end_time": "2018-08-16T22:09:28.064045Z",
     "start_time": "2018-08-16T22:09:27.763985Z"
    },
    "collapsed": false
   },
   "outputs": [
    {
     "data": {
      "image/png": "[encoded data removed]",
      "text/plain": [
       "<matplotlib.figure.Figure at 0x2aaadc0113d0>"
      ]
     },
     "metadata": {},
     "output_type": "display_data"
    }
   ],
   "source": [
    "df_cov_study_2.age.hist();"
   ]
  },
  {
   "cell_type": "code",
   "execution_count": 7,
   "metadata": {
    "ExecuteTime": {
     "end_time": "2018-08-16T22:09:31.334646Z",
     "start_time": "2018-08-16T22:09:31.043936Z"
    },
    "collapsed": false
   },
   "outputs": [
    {
     "data": {
      "image/png": "[encoded data removed]",
      "text/plain": [
       "<matplotlib.figure.Figure at 0x2aaaea6b5510>"
      ]
     },
     "metadata": {},
     "output_type": "display_data"
    }
   ],
   "source": [
    "df_cov_study_2.sex.hist();"
   ]
  },
  {
   "cell_type": "code",
   "execution_count": 8,
   "metadata": {
    "ExecuteTime": {
     "end_time": "2018-08-16T22:09:34.427789Z",
     "start_time": "2018-08-16T22:09:34.115949Z"
    },
    "collapsed": false
   },
   "outputs": [
    {
     "data": {
      "image/png": "[encoded data removed]",
      "text/plain": [
       "<matplotlib.figure.Figure at 0x2aaaec8109d0>"
      ]
     },
     "metadata": {},
     "output_type": "display_data"
    }
   ],
   "source": [
    "df_cov_study_2.height.hist();"
   ]
  },
  {
   "cell_type": "markdown",
   "metadata": {},
   "source": [
    "# run HASE "
   ]
  },
  {
   "cell_type": "markdown",
   "metadata": {},
   "source": [
    "Sometime it is not possible to store all GWAS results for thousands phenotypes. HASE does not compute p-value on the fly to save computation time. Therefore threshold is based on t-statistics. By changing  variable **t_threshold** below you can check which threshold is more sutable for analysis. "
   ]
  },
  {
   "cell_type": "code",
   "execution_count": 9,
   "metadata": {
    "ExecuteTime": {
     "end_time": "2018-08-16T22:09:43.416408Z",
     "start_time": "2018-08-16T22:09:43.411864Z"
    },
    "collapsed": false
   },
   "outputs": [
    {
     "name": "stdout",
     "output_type": "stream",
     "text": [
      "p-value threshold = 7.54147812971e-11\n"
     ]
    }
   ],
   "source": [
    "#Bonferroni correction in our case:\n",
    "N_snps=50000\n",
    "N_phenotypes=13260\n",
    "print 'p-value threshold = {}'.format(0.05/N_snps/N_phenotypes)"
   ]
  },
  {
   "cell_type": "code",
   "execution_count": 10,
   "metadata": {
    "ExecuteTime": {
     "end_time": "2018-08-16T22:09:45.624663Z",
     "start_time": "2018-08-16T22:09:45.619842Z"
    },
    "collapsed": false
   },
   "outputs": [
    {
     "name": "stdout",
     "output_type": "stream",
     "text": [
      "p-value = 8.03200116772e-11\n"
     ]
    }
   ],
   "source": [
    "#Define the t-statistics threshold for analysis\n",
    "t_threshold=6.5\n",
    "print 'p-value = {}'.format(stats.norm.sf(abs(t_threshold))*2 )"
   ]
  },
  {
   "cell_type": "code",
   "execution_count": 15,
   "metadata": {
    "ExecuteTime": {
     "end_time": "2018-08-16T22:21:44.672625Z",
     "start_time": "2018-08-16T22:15:02.727331Z"
    },
    "collapsed": true,
    "run_control": {
     "marked": false
    }
   },
   "outputs": [
    {
     "name": "stdout",
     "output_type": "stream",
     "text": [
      "Namespace(cluster='n', covariates='/scratch/groshchupkin/Students/Cognomics_SummerSchool_2018//study_2/covariates/', derivatives=None, effect_intercept=False, encoded=None, genotype=['/scratch/groshchupkin/Students/Cognomics_SummerSchool_2018//study_2/study_2/'], hdf5=True, id=False, interaction=None, intercept='y', maf=0.0, mapper=None, mapper_chunk=None, mode='regression', node=None, np=True, out='/scratch/groshchupkin/Students/Cognomics_SummerSchool_2018//study_2/results/', pd_full=False, permute_ph=False, ph_id_exc=None, ph_id_inc=None, phenotype=['/scratch/groshchupkin/Students/Cognomics_SummerSchool_2018//study_2//phenotype/'], protocol=None, ref_name='1000Gp1v3_ref', snp_id_exc=None, snp_id_inc=None, study_name=['study_2'], thr=6.5, vcf=False)\n",
      "Numpy linked to openblas_info\n",
      "START regression mode...\n",
      "reading file study_2.txt\n",
      "There are 1200 ids and 3 columns \n",
      "Reading ID from probes....\n",
      "There are 1477 ids\n",
      "There are 1200 common ids\n",
      "Time to select SNPs 5.96046447754e-06s\n",
      "5000 1477\n",
      "(5000, 1477)\n",
      "time to read and merge genotype 0.938354969025s\n",
      "time to compute GWAS for 947 phenotypes and 5000 SNPs .... 0.924567937851 sec\n",
      "Read 5000, processed 5000, total 50000\n",
      "Saving results to /scratch/groshchupkin/Students/Cognomics_SummerSchool_2018//study_2/results/\n",
      "time to compute GWAS for 947 phenotypes and 5000 SNPs .... 0.910410165787 sec\n",
      "Read 5000, processed 5000, total 50000\n",
      "Saving results to /scratch/groshchupkin/Students/Cognomics_SummerSchool_2018//study_2/results/\n",
      "time to compute GWAS for 947 phenotypes and 5000 SNPs .... 0.909747123718 sec\n",
      "Read 5000, processed 5000, total 50000\n",
      "Saving results to /scratch/groshchupkin/Students/Cognomics_SummerSchool_2018//study_2/results/\n",
      "time to compute GWAS for 947 phenotypes and 5000 SNPs .... 0.917844057083 sec\n",
      "Read 5000, processed 5000, total 50000\n",
      "Saving results to /scratch/groshchupkin/Students/Cognomics_SummerSchool_2018//study_2/results/\n",
      "time to compute GWAS for 947 phenotypes and 5000 SNPs .... 0.920646190643 sec\n",
      "Read 5000, processed 5000, total 50000\n",
      "Saving results to /scratch/groshchupkin/Students/Cognomics_SummerSchool_2018//study_2/results/\n",
      "time to compute GWAS for 947 phenotypes and 5000 SNPs .... 0.922704935074 sec\n",
      "Read 5000, processed 5000, total 50000\n",
      "Saving results to /scratch/groshchupkin/Students/Cognomics_SummerSchool_2018//study_2/results/\n",
      "time to compute GWAS for 947 phenotypes and 5000 SNPs .... 0.914330005646 sec\n",
      "Read 5000, processed 5000, total 50000\n",
      "time to compute GWAS for 947 phenotypes and 5000 SNPs .... 0.93248295784 sec\n",
      "Read 5000, processed 5000, total 50000\n",
      "Saving results to /scratch/groshchupkin/Students/Cognomics_SummerSchool_2018//study_2/results/\n",
      "time to compute GWAS for 947 phenotypes and 5000 SNPs .... 0.917541980743 sec\n",
      "Read 5000, processed 5000, total 50000\n",
      "Saving results to /scratch/groshchupkin/Students/Cognomics_SummerSchool_2018//study_2/results/\n",
      "time to compute GWAS for 947 phenotypes and 5000 SNPs .... 0.923800945282 sec\n",
      "Read 5000, processed 5000, total 50000\n",
      "Saving results to /scratch/groshchupkin/Students/Cognomics_SummerSchool_2018//study_2/results/\n",
      "time to compute GWAS for 947 phenotypes and 5000 SNPs .... 0.932040929794 sec\n",
      "Read 5000, processed 5000, total 50000\n",
      "Saving results to /scratch/groshchupkin/Students/Cognomics_SummerSchool_2018//study_2/results/\n",
      "time to compute GWAS for 948 phenotypes and 5000 SNPs .... 0.905654191971 sec\n",
      "Read 5000, processed 5000, total 50000\n",
      "Saving results to /scratch/groshchupkin/Students/Cognomics_SummerSchool_2018//study_2/results/\n",
      "time to compute GWAS for 947 phenotypes and 5000 SNPs .... 0.90681886673 sec\n",
      "Read 5000, processed 5000, total 50000\n",
      "Saving results to /scratch/groshchupkin/Students/Cognomics_SummerSchool_2018//study_2/results/\n",
      "time to compute GWAS for 948 phenotypes and 5000 SNPs .... 0.904727935791 sec\n",
      "Read 5000, processed 5000, total 50000\n",
      "All phenotypes processed!\n",
      "Time to select SNPs 5.96046447754e-06s\n",
      "5000 1477\n",
      "(5000, 1477)\n",
      "time to read and merge genotype 0.953248977661s\n",
      "time to compute GWAS for 947 phenotypes and 5000 SNPs .... 0.906332969666 sec\n",
      "Read 10000, processed 10000, total 50000\n",
      "Saving results to /scratch/groshchupkin/Students/Cognomics_SummerSchool_2018//study_2/results/\n",
      "time to compute GWAS for 947 phenotypes and 5000 SNPs .... 0.927196979523 sec\n",
      "Read 10000, processed 10000, total 50000\n",
      "Saving results to /scratch/groshchupkin/Students/Cognomics_SummerSchool_2018//study_2/results/\n",
      "time to compute GWAS for 947 phenotypes and 5000 SNPs .... 0.930721998215 sec\n",
      "Read 10000, processed 10000, total 50000\n",
      "Saving results to /scratch/groshchupkin/Students/Cognomics_SummerSchool_2018//study_2/results/\n",
      "time to compute GWAS for 947 phenotypes and 5000 SNPs .... 0.924010038376 sec\n",
      "Read 10000, processed 10000, total 50000\n",
      "Saving results to /scratch/groshchupkin/Students/Cognomics_SummerSchool_2018//study_2/results/\n",
      "time to compute GWAS for 947 phenotypes and 5000 SNPs .... 0.929672956467 sec\n",
      "Read 10000, processed 10000, total 50000\n",
      "Saving results to /scratch/groshchupkin/Students/Cognomics_SummerSchool_2018//study_2/results/\n",
      "time to compute GWAS for 947 phenotypes and 5000 SNPs .... 0.91667509079 sec\n",
      "Read 10000, processed 10000, total 50000\n",
      "Saving results to /scratch/groshchupkin/Students/Cognomics_SummerSchool_2018//study_2/results/\n",
      "time to compute GWAS for 947 phenotypes and 5000 SNPs .... 0.912710905075 sec\n",
      "Read 10000, processed 10000, total 50000\n",
      "Saving results to /scratch/groshchupkin/Students/Cognomics_SummerSchool_2018//study_2/results/\n",
      "time to compute GWAS for 947 phenotypes and 5000 SNPs .... 0.919411897659 sec\n",
      "Read 10000, processed 10000, total 50000\n",
      "Saving results to /scratch/groshchupkin/Students/Cognomics_SummerSchool_2018//study_2/results/\n",
      "time to compute GWAS for 947 phenotypes and 5000 SNPs .... 0.919667005539 sec\n",
      "Read 10000, processed 10000, total 50000\n",
      "Saving results to /scratch/groshchupkin/Students/Cognomics_SummerSchool_2018//study_2/results/\n",
      "time to compute GWAS for 947 phenotypes and 5000 SNPs .... 0.920321941376 sec\n",
      "Read 10000, processed 10000, total 50000\n",
      "Saving results to /scratch/groshchupkin/Students/Cognomics_SummerSchool_2018//study_2/results/\n",
      "time to compute GWAS for 947 phenotypes and 5000 SNPs .... 0.911968946457 sec\n",
      "Read 10000, processed 10000, total 50000\n",
      "Saving results to /scratch/groshchupkin/Students/Cognomics_SummerSchool_2018//study_2/results/\n",
      "time to compute GWAS for 948 phenotypes and 5000 SNPs .... 0.907180070877 sec\n",
      "Read 10000, processed 10000, total 50000\n",
      "Saving results to /scratch/groshchupkin/Students/Cognomics_SummerSchool_2018//study_2/results/\n",
      "time to compute GWAS for 947 phenotypes and 5000 SNPs .... 0.92240190506 sec\n",
      "Read 10000, processed 10000, total 50000\n",
      "Saving results to /scratch/groshchupkin/Students/Cognomics_SummerSchool_2018//study_2/results/\n",
      "time to compute GWAS for 948 phenotypes and 5000 SNPs .... 0.900134086609 sec\n",
      "Read 10000, processed 10000, total 50000\n",
      "All phenotypes processed!\n",
      "Time to select SNPs 6.91413879395e-06s\n",
      "5000 1477\n",
      "(5000, 1477)\n",
      "time to read and merge genotype 0.925987958908s\n",
      "time to compute GWAS for 947 phenotypes and 5000 SNPs .... 0.910066127777 sec\n",
      "Read 15000, processed 15000, total 50000\n",
      "Saving results to /scratch/groshchupkin/Students/Cognomics_SummerSchool_2018//study_2/results/\n",
      "time to compute GWAS for 947 phenotypes and 5000 SNPs .... 0.910721063614 sec\n",
      "Read 15000, processed 15000, total 50000\n",
      "Saving results to /scratch/groshchupkin/Students/Cognomics_SummerSchool_2018//study_2/results/\n",
      "time to compute GWAS for 947 phenotypes and 5000 SNPs .... 0.909627914429 sec\n",
      "Read 15000, processed 15000, total 50000\n",
      "Saving results to /scratch/groshchupkin/Students/Cognomics_SummerSchool_2018//study_2/results/\n",
      "time to compute GWAS for 947 phenotypes and 5000 SNPs .... 0.908605098724 sec\n",
      "Read 15000, processed 15000, total 50000\n",
      "Saving results to /scratch/groshchupkin/Students/Cognomics_SummerSchool_2018//study_2/results/\n",
      "time to compute GWAS for 947 phenotypes and 5000 SNPs .... 0.923311948776 sec\n",
      "Read 15000, processed 15000, total 50000\n",
      "Saving results to /scratch/groshchupkin/Students/Cognomics_SummerSchool_2018//study_2/results/\n",
      "time to compute GWAS for 947 phenotypes and 5000 SNPs .... 0.910379886627 sec\n",
      "Read 15000, processed 15000, total 50000\n",
      "Saving results to /scratch/groshchupkin/Students/Cognomics_SummerSchool_2018//study_2/results/\n",
      "time to compute GWAS for 947 phenotypes and 5000 SNPs .... 0.912373781204 sec\n",
      "Read 15000, processed 15000, total 50000\n",
      "time to compute GWAS for 947 phenotypes and 5000 SNPs .... 0.911719083786 sec\n",
      "Read 15000, processed 15000, total 50000\n",
      "Saving results to /scratch/groshchupkin/Students/Cognomics_SummerSchool_2018//study_2/results/\n",
      "time to compute GWAS for 947 phenotypes and 5000 SNPs .... 0.91042304039 sec\n",
      "Read 15000, processed 15000, total 50000\n",
      "Saving results to /scratch/groshchupkin/Students/Cognomics_SummerSchool_2018//study_2/results/\n",
      "time to compute GWAS for 947 phenotypes and 5000 SNPs .... 0.908822059631 sec\n",
      "Read 15000, processed 15000, total 50000\n",
      "Saving results to /scratch/groshchupkin/Students/Cognomics_SummerSchool_2018//study_2/results/\n",
      "time to compute GWAS for 947 phenotypes and 5000 SNPs .... 0.909425973892 sec\n",
      "Read 15000, processed 15000, total 50000\n",
      "Saving results to /scratch/groshchupkin/Students/Cognomics_SummerSchool_2018//study_2/results/\n",
      "time to compute GWAS for 948 phenotypes and 5000 SNPs .... 0.927827119827 sec\n",
      "Read 15000, processed 15000, total 50000\n",
      "Saving results to /scratch/groshchupkin/Students/Cognomics_SummerSchool_2018//study_2/results/\n",
      "time to compute GWAS for 947 phenotypes and 5000 SNPs .... 0.912772893906 sec\n",
      "Read 15000, processed 15000, total 50000\n",
      "Saving results to /scratch/groshchupkin/Students/Cognomics_SummerSchool_2018//study_2/results/\n",
      "time to compute GWAS for 948 phenotypes and 5000 SNPs .... 0.906332969666 sec\n",
      "Read 15000, processed 15000, total 50000\n",
      "All phenotypes processed!\n",
      "Time to select SNPs 5.96046447754e-06s\n",
      "5000 1477\n",
      "(5000, 1477)\n",
      "time to read and merge genotype 0.926159143448s\n",
      "time to compute GWAS for 947 phenotypes and 5000 SNPs .... 0.909528017044 sec\n",
      "Read 20000, processed 20000, total 50000\n",
      "time to compute GWAS for 947 phenotypes and 5000 SNPs .... 0.90985584259 sec\n",
      "Read 20000, processed 20000, total 50000\n",
      "time to compute GWAS for 947 phenotypes and 5000 SNPs .... 0.909658193588 sec\n",
      "Read 20000, processed 20000, total 50000\n",
      "time to compute GWAS for 947 phenotypes and 5000 SNPs .... 0.915403842926 sec\n",
      "Read 20000, processed 20000, total 50000\n",
      "Saving results to /scratch/groshchupkin/Students/Cognomics_SummerSchool_2018//study_2/results/\n",
      "time to compute GWAS for 947 phenotypes and 5000 SNPs .... 0.913376092911 sec\n",
      "Read 20000, processed 20000, total 50000\n",
      "time to compute GWAS for 947 phenotypes and 5000 SNPs .... 0.912873029709 sec\n",
      "Read 20000, processed 20000, total 50000\n",
      "time to compute GWAS for 947 phenotypes and 5000 SNPs .... 0.911170005798 sec\n",
      "Read 20000, processed 20000, total 50000\n",
      "time to compute GWAS for 947 phenotypes and 5000 SNPs .... 0.918370962143 sec\n",
      "Read 20000, processed 20000, total 50000\n",
      "time to compute GWAS for 947 phenotypes and 5000 SNPs .... 0.91094994545 sec\n",
      "Read 20000, processed 20000, total 50000\n",
      "time to compute GWAS for 947 phenotypes and 5000 SNPs .... 0.910273075104 sec\n",
      "Read 20000, processed 20000, total 50000\n",
      "time to compute GWAS for 947 phenotypes and 5000 SNPs .... 0.916954040527 sec\n",
      "Read 20000, processed 20000, total 50000\n",
      "time to compute GWAS for 948 phenotypes and 5000 SNPs .... 0.906920909882 sec\n",
      "Read 20000, processed 20000, total 50000\n",
      "time to compute GWAS for 947 phenotypes and 5000 SNPs .... 0.911149978638 sec\n",
      "Read 20000, processed 20000, total 50000\n",
      "time to compute GWAS for 948 phenotypes and 5000 SNPs .... 0.906934976578 sec\n",
      "Read 20000, processed 20000, total 50000\n",
      "All phenotypes processed!\n",
      "Time to select SNPs 5.00679016113e-06s\n",
      "5000 1477\n",
      "(5000, 1477)\n",
      "time to read and merge genotype 0.925029039383s\n",
      "time to compute GWAS for 947 phenotypes and 5000 SNPs .... 0.910552024841 sec\n",
      "Read 25000, processed 25000, total 50000\n",
      "Saving results to /scratch/groshchupkin/Students/Cognomics_SummerSchool_2018//study_2/results/\n",
      "time to compute GWAS for 947 phenotypes and 5000 SNPs .... 0.910070896149 sec\n",
      "Read 25000, processed 25000, total 50000\n",
      "time to compute GWAS for 947 phenotypes and 5000 SNPs .... 0.909385919571 sec\n",
      "Read 25000, processed 25000, total 50000\n",
      "time to compute GWAS for 947 phenotypes and 5000 SNPs .... 0.904531002045 sec\n",
      "Read 25000, processed 25000, total 50000\n",
      "time to compute GWAS for 947 phenotypes and 5000 SNPs .... 0.911876916885 sec\n",
      "Read 25000, processed 25000, total 50000\n",
      "time to compute GWAS for 947 phenotypes and 5000 SNPs .... 0.909719944 sec\n",
      "Read 25000, processed 25000, total 50000\n",
      "Saving results to /scratch/groshchupkin/Students/Cognomics_SummerSchool_2018//study_2/results/\n",
      "time to compute GWAS for 947 phenotypes and 5000 SNPs .... 0.911718130112 sec\n",
      "Read 25000, processed 25000, total 50000\n",
      "time to compute GWAS for 947 phenotypes and 5000 SNPs .... 0.909550905228 sec\n",
      "Read 25000, processed 25000, total 50000\n",
      "time to compute GWAS for 947 phenotypes and 5000 SNPs .... 0.955760955811 sec\n",
      "Read 25000, processed 25000, total 50000\n",
      "Saving results to /scratch/groshchupkin/Students/Cognomics_SummerSchool_2018//study_2/results/\n",
      "time to compute GWAS for 947 phenotypes and 5000 SNPs .... 0.915676116943 sec\n",
      "Read 25000, processed 25000, total 50000\n",
      "time to compute GWAS for 947 phenotypes and 5000 SNPs .... 0.916038036346 sec\n",
      "Read 25000, processed 25000, total 50000\n",
      "time to compute GWAS for 948 phenotypes and 5000 SNPs .... 0.906339168549 sec\n",
      "Read 25000, processed 25000, total 50000\n",
      "time to compute GWAS for 947 phenotypes and 5000 SNPs .... 0.913240909576 sec\n",
      "Read 25000, processed 25000, total 50000\n",
      "time to compute GWAS for 948 phenotypes and 5000 SNPs .... 0.907194852829 sec\n",
      "Read 25000, processed 25000, total 50000\n",
      "All phenotypes processed!\n",
      "Time to select SNPs 5.00679016113e-06s\n",
      "5000 1477\n",
      "(5000, 1477)\n",
      "time to read and merge genotype 0.935298204422s\n",
      "time to compute GWAS for 947 phenotypes and 5000 SNPs .... 0.919838905334 sec\n",
      "Read 30000, processed 30000, total 50000\n",
      "time to compute GWAS for 947 phenotypes and 5000 SNPs .... 0.911594152451 sec\n",
      "Read 30000, processed 30000, total 50000\n",
      "time to compute GWAS for 947 phenotypes and 5000 SNPs .... 0.910466909409 sec\n",
      "Read 30000, processed 30000, total 50000\n",
      "time to compute GWAS for 947 phenotypes and 5000 SNPs .... 0.915871858597 sec\n",
      "Read 30000, processed 30000, total 50000\n",
      "time to compute GWAS for 947 phenotypes and 5000 SNPs .... 0.911000013351 sec\n",
      "Read 30000, processed 30000, total 50000\n",
      "time to compute GWAS for 947 phenotypes and 5000 SNPs .... 0.917726039886 sec\n",
      "Read 30000, processed 30000, total 50000\n",
      "time to compute GWAS for 947 phenotypes and 5000 SNPs .... 0.910866975784 sec\n",
      "Read 30000, processed 30000, total 50000\n",
      "time to compute GWAS for 947 phenotypes and 5000 SNPs .... 0.91150021553 sec\n",
      "Read 30000, processed 30000, total 50000\n",
      "time to compute GWAS for 947 phenotypes and 5000 SNPs .... 0.911170005798 sec\n",
      "Read 30000, processed 30000, total 50000\n",
      "time to compute GWAS for 947 phenotypes and 5000 SNPs .... 0.910305023193 sec\n",
      "Read 30000, processed 30000, total 50000\n",
      "time to compute GWAS for 947 phenotypes and 5000 SNPs .... 0.917434930801 sec\n",
      "Read 30000, processed 30000, total 50000\n",
      "time to compute GWAS for 948 phenotypes and 5000 SNPs .... 0.918460130692 sec\n",
      "Read 30000, processed 30000, total 50000\n",
      "time to compute GWAS for 947 phenotypes and 5000 SNPs .... 0.912701129913 sec\n",
      "Read 30000, processed 30000, total 50000\n",
      "time to compute GWAS for 948 phenotypes and 5000 SNPs .... 0.981364011765 sec\n",
      "Read 30000, processed 30000, total 50000\n",
      "All phenotypes processed!\n",
      "Time to select SNPs 6.91413879395e-06s\n",
      "5000 1477\n",
      "(5000, 1477)\n",
      "time to read and merge genotype 0.955855846405s\n",
      "time to compute GWAS for 947 phenotypes and 5000 SNPs .... 0.910073041916 sec\n",
      "Read 35000, processed 35000, total 50000\n",
      "time to compute GWAS for 947 phenotypes and 5000 SNPs .... 0.910874128342 sec\n",
      "Read 35000, processed 35000, total 50000\n",
      "Saving results to /scratch/groshchupkin/Students/Cognomics_SummerSchool_2018//study_2/results/\n",
      "time to compute GWAS for 947 phenotypes and 5000 SNPs .... 0.91502404213 sec\n",
      "Read 35000, processed 35000, total 50000\n",
      "time to compute GWAS for 947 phenotypes and 5000 SNPs .... 0.913973808289 sec\n",
      "Read 35000, processed 35000, total 50000\n",
      "time to compute GWAS for 947 phenotypes and 5000 SNPs .... 0.910134077072 sec\n",
      "Read 35000, processed 35000, total 50000\n",
      "time to compute GWAS for 947 phenotypes and 5000 SNPs .... 0.916482925415 sec\n",
      "Read 35000, processed 35000, total 50000\n",
      "Saving results to /scratch/groshchupkin/Students/Cognomics_SummerSchool_2018//study_2/results/\n",
      "time to compute GWAS for 947 phenotypes and 5000 SNPs .... 0.913192987442 sec\n",
      "Read 35000, processed 35000, total 50000\n",
      "Saving results to /scratch/groshchupkin/Students/Cognomics_SummerSchool_2018//study_2/results/\n",
      "time to compute GWAS for 947 phenotypes and 5000 SNPs .... 0.909654140472 sec\n",
      "Read 35000, processed 35000, total 50000\n",
      "time to compute GWAS for 947 phenotypes and 5000 SNPs .... 0.909811019897 sec\n",
      "Read 35000, processed 35000, total 50000\n",
      "time to compute GWAS for 947 phenotypes and 5000 SNPs .... 0.909913063049 sec\n",
      "Read 35000, processed 35000, total 50000\n",
      "time to compute GWAS for 947 phenotypes and 5000 SNPs .... 0.925429105759 sec\n",
      "Read 35000, processed 35000, total 50000\n",
      "time to compute GWAS for 948 phenotypes and 5000 SNPs .... 0.907556056976 sec\n",
      "Read 35000, processed 35000, total 50000\n",
      "time to compute GWAS for 947 phenotypes and 5000 SNPs .... 0.911373853683 sec\n",
      "Read 35000, processed 35000, total 50000\n",
      "time to compute GWAS for 948 phenotypes and 5000 SNPs .... 0.907167196274 sec\n",
      "Read 35000, processed 35000, total 50000\n",
      "All phenotypes processed!\n",
      "Time to select SNPs 5.96046447754e-06s\n",
      "5000 1477\n",
      "(5000, 1477)\n",
      "time to read and merge genotype 0.934916973114s\n",
      "time to compute GWAS for 947 phenotypes and 5000 SNPs .... 0.909660816193 sec\n",
      "Read 40000, processed 40000, total 50000\n",
      "Saving results to /scratch/groshchupkin/Students/Cognomics_SummerSchool_2018//study_2/results/\n",
      "time to compute GWAS for 947 phenotypes and 5000 SNPs .... 0.911537885666 sec\n",
      "Read 40000, processed 40000, total 50000\n",
      "Saving results to /scratch/groshchupkin/Students/Cognomics_SummerSchool_2018//study_2/results/\n",
      "time to compute GWAS for 947 phenotypes and 5000 SNPs .... 0.908992052078 sec\n",
      "Read 40000, processed 40000, total 50000\n",
      "Saving results to /scratch/groshchupkin/Students/Cognomics_SummerSchool_2018//study_2/results/\n",
      "time to compute GWAS for 947 phenotypes and 5000 SNPs .... 0.911371946335 sec\n",
      "Read 40000, processed 40000, total 50000\n",
      "Saving results to /scratch/groshchupkin/Students/Cognomics_SummerSchool_2018//study_2/results/\n",
      "time to compute GWAS for 947 phenotypes and 5000 SNPs .... 0.909940958023 sec\n",
      "Read 40000, processed 40000, total 50000\n",
      "Saving results to /scratch/groshchupkin/Students/Cognomics_SummerSchool_2018//study_2/results/\n",
      "time to compute GWAS for 947 phenotypes and 5000 SNPs .... 0.912801027298 sec\n",
      "Read 40000, processed 40000, total 50000\n",
      "Saving results to /scratch/groshchupkin/Students/Cognomics_SummerSchool_2018//study_2/results/\n",
      "time to compute GWAS for 947 phenotypes and 5000 SNPs .... 0.98774600029 sec\n",
      "Read 40000, processed 40000, total 50000\n",
      "Saving results to /scratch/groshchupkin/Students/Cognomics_SummerSchool_2018//study_2/results/\n",
      "time to compute GWAS for 947 phenotypes and 5000 SNPs .... 0.9217710495 sec\n",
      "Read 40000, processed 40000, total 50000\n",
      "Saving results to /scratch/groshchupkin/Students/Cognomics_SummerSchool_2018//study_2/results/\n",
      "time to compute GWAS for 947 phenotypes and 5000 SNPs .... 0.912096977234 sec\n",
      "Read 40000, processed 40000, total 50000\n",
      "Saving results to /scratch/groshchupkin/Students/Cognomics_SummerSchool_2018//study_2/results/\n",
      "time to compute GWAS for 947 phenotypes and 5000 SNPs .... 0.910783052444 sec\n",
      "Read 40000, processed 40000, total 50000\n",
      "Saving results to /scratch/groshchupkin/Students/Cognomics_SummerSchool_2018//study_2/results/\n",
      "time to compute GWAS for 947 phenotypes and 5000 SNPs .... 0.915484189987 sec\n",
      "Read 40000, processed 40000, total 50000\n",
      "Saving results to /scratch/groshchupkin/Students/Cognomics_SummerSchool_2018//study_2/results/\n",
      "time to compute GWAS for 948 phenotypes and 5000 SNPs .... 0.913068056107 sec\n",
      "Read 40000, processed 40000, total 50000\n",
      "Saving results to /scratch/groshchupkin/Students/Cognomics_SummerSchool_2018//study_2/results/\n",
      "time to compute GWAS for 947 phenotypes and 5000 SNPs .... 0.913489103317 sec\n",
      "Read 40000, processed 40000, total 50000\n",
      "Saving results to /scratch/groshchupkin/Students/Cognomics_SummerSchool_2018//study_2/results/\n",
      "time to compute GWAS for 948 phenotypes and 5000 SNPs .... 0.921205997467 sec\n",
      "Read 40000, processed 40000, total 50000\n",
      "Saving results to /scratch/groshchupkin/Students/Cognomics_SummerSchool_2018//study_2/results/\n",
      "All phenotypes processed!\n",
      "Time to select SNPs 5.00679016113e-06s\n",
      "5000 1477\n",
      "(5000, 1477)\n",
      "time to read and merge genotype 0.935783147812s\n",
      "time to compute GWAS for 947 phenotypes and 5000 SNPs .... 0.911458015442 sec\n",
      "Read 45000, processed 45000, total 50000\n",
      "Saving results to /scratch/groshchupkin/Students/Cognomics_SummerSchool_2018//study_2/results/\n",
      "time to compute GWAS for 947 phenotypes and 5000 SNPs .... 0.931512117386 sec\n",
      "Read 45000, processed 45000, total 50000\n",
      "Saving results to /scratch/groshchupkin/Students/Cognomics_SummerSchool_2018//study_2/results/\n",
      "time to compute GWAS for 947 phenotypes and 5000 SNPs .... 0.91187286377 sec\n",
      "Read 45000, processed 45000, total 50000\n",
      "time to compute GWAS for 947 phenotypes and 5000 SNPs .... 0.922715902328 sec\n",
      "Read 45000, processed 45000, total 50000\n",
      "Saving results to /scratch/groshchupkin/Students/Cognomics_SummerSchool_2018//study_2/results/\n",
      "time to compute GWAS for 947 phenotypes and 5000 SNPs .... 0.91121506691 sec\n",
      "Read 45000, processed 45000, total 50000\n",
      "Saving results to /scratch/groshchupkin/Students/Cognomics_SummerSchool_2018//study_2/results/\n",
      "time to compute GWAS for 947 phenotypes and 5000 SNPs .... 0.911151885986 sec\n",
      "Read 45000, processed 45000, total 50000\n",
      "Saving results to /scratch/groshchupkin/Students/Cognomics_SummerSchool_2018//study_2/results/\n",
      "time to compute GWAS for 947 phenotypes and 5000 SNPs .... 0.911815881729 sec\n",
      "Read 45000, processed 45000, total 50000\n",
      "time to compute GWAS for 947 phenotypes and 5000 SNPs .... 0.909571886063 sec\n",
      "Read 45000, processed 45000, total 50000\n",
      "Saving results to /scratch/groshchupkin/Students/Cognomics_SummerSchool_2018//study_2/results/\n",
      "time to compute GWAS for 947 phenotypes and 5000 SNPs .... 0.910881996155 sec\n",
      "Read 45000, processed 45000, total 50000\n",
      "Saving results to /scratch/groshchupkin/Students/Cognomics_SummerSchool_2018//study_2/results/\n",
      "time to compute GWAS for 947 phenotypes and 5000 SNPs .... 0.911852121353 sec\n",
      "Read 45000, processed 45000, total 50000\n",
      "Saving results to /scratch/groshchupkin/Students/Cognomics_SummerSchool_2018//study_2/results/\n",
      "time to compute GWAS for 947 phenotypes and 5000 SNPs .... 0.91687297821 sec\n",
      "Read 45000, processed 45000, total 50000\n",
      "time to compute GWAS for 948 phenotypes and 5000 SNPs .... 0.924476861954 sec\n",
      "Read 45000, processed 45000, total 50000\n",
      "Saving results to /scratch/groshchupkin/Students/Cognomics_SummerSchool_2018//study_2/results/\n",
      "time to compute GWAS for 947 phenotypes and 5000 SNPs .... 0.925765991211 sec\n",
      "Read 45000, processed 45000, total 50000\n",
      "Saving results to /scratch/groshchupkin/Students/Cognomics_SummerSchool_2018//study_2/results/\n",
      "time to compute GWAS for 948 phenotypes and 5000 SNPs .... 0.910234928131 sec\n",
      "Read 45000, processed 45000, total 50000\n",
      "All phenotypes processed!\n",
      "Time to select SNPs 6.91413879395e-06s\n",
      "5000 1477\n",
      "(5000, 1477)\n",
      "time to read and merge genotype 0.936233043671s\n",
      "time to compute GWAS for 947 phenotypes and 5000 SNPs .... 0.911833047867 sec\n",
      "Read 50000, processed 50000, total 50000\n",
      "Saving results to /scratch/groshchupkin/Students/Cognomics_SummerSchool_2018//study_2/results/\n",
      "time to compute GWAS for 947 phenotypes and 5000 SNPs .... 0.927428007126 sec\n",
      "Read 50000, processed 50000, total 50000\n",
      "time to compute GWAS for 947 phenotypes and 5000 SNPs .... 0.931896924973 sec\n",
      "Read 50000, processed 50000, total 50000\n",
      "time to compute GWAS for 947 phenotypes and 5000 SNPs .... 0.904886960983 sec\n",
      "Read 50000, processed 50000, total 50000\n",
      "Saving results to /scratch/groshchupkin/Students/Cognomics_SummerSchool_2018//study_2/results/\n",
      "time to compute GWAS for 947 phenotypes and 5000 SNPs .... 0.925116062164 sec\n",
      "Read 50000, processed 50000, total 50000\n",
      "time to compute GWAS for 947 phenotypes and 5000 SNPs .... 0.920382976532 sec\n",
      "Read 50000, processed 50000, total 50000\n",
      "Saving results to /scratch/groshchupkin/Students/Cognomics_SummerSchool_2018//study_2/results/\n",
      "time to compute GWAS for 947 phenotypes and 5000 SNPs .... 0.91499209404 sec\n",
      "Read 50000, processed 50000, total 50000\n",
      "time to compute GWAS for 947 phenotypes and 5000 SNPs .... 0.97896695137 sec\n",
      "Read 50000, processed 50000, total 50000\n",
      "Saving results to /scratch/groshchupkin/Students/Cognomics_SummerSchool_2018//study_2/results/\n",
      "time to compute GWAS for 947 phenotypes and 5000 SNPs .... 0.905818939209 sec\n",
      "Read 50000, processed 50000, total 50000\n",
      "Saving results to /scratch/groshchupkin/Students/Cognomics_SummerSchool_2018//study_2/results/\n",
      "time to compute GWAS for 947 phenotypes and 5000 SNPs .... 0.981567144394 sec\n",
      "Read 50000, processed 50000, total 50000\n",
      "time to compute GWAS for 947 phenotypes and 5000 SNPs .... 0.918895959854 sec\n",
      "Read 50000, processed 50000, total 50000\n",
      "Saving results to /scratch/groshchupkin/Students/Cognomics_SummerSchool_2018//study_2/results/\n",
      "time to compute GWAS for 948 phenotypes and 5000 SNPs .... 0.915359973907 sec\n",
      "Read 50000, processed 50000, total 50000\n",
      "Saving results to /scratch/groshchupkin/Students/Cognomics_SummerSchool_2018//study_2/results/\n",
      "time to compute GWAS for 947 phenotypes and 5000 SNPs .... 0.910058021545 sec\n",
      "Read 50000, processed 50000, total 50000\n",
      "time to compute GWAS for 948 phenotypes and 5000 SNPs .... 0.911708831787 sec\n",
      "Read 50000, processed 50000, total 50000\n",
      "All phenotypes processed!\n",
      "experiment finished in 400.251012087 s\n"
     ]
    },
    {
     "name": "stderr",
     "output_type": "stream",
     "text": [
      "/scratch/groshchupkin/Students/Cognomics_SummerSchool_2018/hase/hdgwas/hdregression.py:121: RuntimeWarning: invalid value encountered in divide\n",
      "  t_stat = np.sqrt(DF) * np.divide(A1_B_full[:, (N_con):N_con+1, :], a44_C_BTA1B)\n",
      "/scratch/groshchupkin/Students/Cognomics_SummerSchool_2018/hase/hdgwas/tools.py:170: RuntimeWarning: invalid value encountered in greater\n",
      "  mask = np.where(np.abs(self.t_stat) > t_threshold)\n"
     ]
    }
   ],
   "source": [
    "%%sh -s \"$study_2\" \"$SummerSchool_PATH\" \"$HASE_PATH\"\n",
    "\n",
    "i=$1\n",
    "DATA_PATH=$2\n",
    "HASE_PATH=$3\n",
    "\n",
    "python ${HASE_PATH}/hase.py -mode regression \\\n",
    "-g ${DATA_PATH}/${i}/${i}/ \\\n",
    "-study_name ${i} \\\n",
    "-o ${DATA_PATH}/${i}/results/ \\\n",
    "-ph ${DATA_PATH}/${i}//phenotype/ \\\n",
    "-cov ${DATA_PATH}/${i}/covariates/ \\\n",
    "-th 6.5"
   ]
  },
  {
   "cell_type": "code",
   "execution_count": null,
   "metadata": {
    "collapsed": true
   },
   "outputs": [],
   "source": []
  },
  {
   "cell_type": "code",
   "execution_count": null,
   "metadata": {
    "collapsed": true
   },
   "outputs": [],
   "source": []
  },
  {
   "cell_type": "markdown",
   "metadata": {},
   "source": [
    "# Create GWAS summary "
   ]
  },
  {
   "cell_type": "code",
   "execution_count": 16,
   "metadata": {
    "ExecuteTime": {
     "end_time": "2018-08-16T22:23:26.680931Z",
     "start_time": "2018-08-16T22:23:24.812381Z"
    },
    "collapsed": true
   },
   "outputs": [
    {
     "name": "stdout",
     "output_type": "stream",
     "text": [
      "Namespace(df=None, out='/scratch/groshchupkin/Students/Cognomics_SummerSchool_2018//study_2/summary/', r='/scratch/groshchupkin/Students/Cognomics_SummerSchool_2018//study_2/results/')\n",
      "DF is not defined. Forced to use z_score statistics!\n",
      "/scratch/groshchupkin/Students/Cognomics_SummerSchool_2018//study_2/results/138result.npy\n",
      "/scratch/groshchupkin/Students/Cognomics_SummerSchool_2018//study_2/results/137result.npy\n",
      "/scratch/groshchupkin/Students/Cognomics_SummerSchool_2018//study_2/results/135result.npy\n",
      "Saving data...\n",
      "DF is not defined. Forced to use z_score statistics!\n",
      "/scratch/groshchupkin/Students/Cognomics_SummerSchool_2018//study_2/results/134result.npy\n",
      "/scratch/groshchupkin/Students/Cognomics_SummerSchool_2018//study_2/results/132result.npy\n",
      "/scratch/groshchupkin/Students/Cognomics_SummerSchool_2018//study_2/results/130result.npy\n",
      "Saving data...\n",
      "DF is not defined. Forced to use z_score statistics!\n",
      "/scratch/groshchupkin/Students/Cognomics_SummerSchool_2018//study_2/results/127result.npy\n",
      "/scratch/groshchupkin/Students/Cognomics_SummerSchool_2018//study_2/results/125result.npy\n",
      "/scratch/groshchupkin/Students/Cognomics_SummerSchool_2018//study_2/results/124result.npy\n",
      "Saving data...\n",
      "DF is not defined. Forced to use z_score statistics!\n",
      "/scratch/groshchupkin/Students/Cognomics_SummerSchool_2018//study_2/results/122result.npy\n",
      "/scratch/groshchupkin/Students/Cognomics_SummerSchool_2018//study_2/results/121result.npy\n",
      "/scratch/groshchupkin/Students/Cognomics_SummerSchool_2018//study_2/results/120result.npy\n",
      "Saving data...\n",
      "DF is not defined. Forced to use z_score statistics!\n",
      "/scratch/groshchupkin/Students/Cognomics_SummerSchool_2018//study_2/results/118result.npy\n",
      "/scratch/groshchupkin/Students/Cognomics_SummerSchool_2018//study_2/results/117result.npy\n",
      "/scratch/groshchupkin/Students/Cognomics_SummerSchool_2018//study_2/results/116result.npy\n",
      "Saving data...\n",
      "DF is not defined. Forced to use z_score statistics!\n",
      "/scratch/groshchupkin/Students/Cognomics_SummerSchool_2018//study_2/results/114result.npy\n",
      "/scratch/groshchupkin/Students/Cognomics_SummerSchool_2018//study_2/results/113result.npy\n",
      "/scratch/groshchupkin/Students/Cognomics_SummerSchool_2018//study_2/results/112result.npy\n",
      "Saving data...\n",
      "DF is not defined. Forced to use z_score statistics!\n",
      "/scratch/groshchupkin/Students/Cognomics_SummerSchool_2018//study_2/results/111result.npy\n",
      "/scratch/groshchupkin/Students/Cognomics_SummerSchool_2018//study_2/results/110result.npy\n",
      "/scratch/groshchupkin/Students/Cognomics_SummerSchool_2018//study_2/results/109result.npy\n",
      "Saving data...\n",
      "DF is not defined. Forced to use z_score statistics!\n",
      "/scratch/groshchupkin/Students/Cognomics_SummerSchool_2018//study_2/results/108result.npy\n",
      "/scratch/groshchupkin/Students/Cognomics_SummerSchool_2018//study_2/results/107result.npy\n",
      "/scratch/groshchupkin/Students/Cognomics_SummerSchool_2018//study_2/results/106result.npy\n",
      "Saving data...\n",
      "DF is not defined. Forced to use z_score statistics!\n",
      "/scratch/groshchupkin/Students/Cognomics_SummerSchool_2018//study_2/results/105result.npy\n",
      "/scratch/groshchupkin/Students/Cognomics_SummerSchool_2018//study_2/results/104result.npy\n",
      "/scratch/groshchupkin/Students/Cognomics_SummerSchool_2018//study_2/results/103result.npy\n",
      "Saving data...\n",
      "DF is not defined. Forced to use z_score statistics!\n",
      "/scratch/groshchupkin/Students/Cognomics_SummerSchool_2018//study_2/results/102result.npy\n",
      "/scratch/groshchupkin/Students/Cognomics_SummerSchool_2018//study_2/results/101result.npy\n",
      "/scratch/groshchupkin/Students/Cognomics_SummerSchool_2018//study_2/results/100result.npy\n",
      "Saving data...\n",
      "DF is not defined. Forced to use z_score statistics!\n",
      "/scratch/groshchupkin/Students/Cognomics_SummerSchool_2018//study_2/results/99result.npy\n",
      "/scratch/groshchupkin/Students/Cognomics_SummerSchool_2018//study_2/results/91result.npy\n",
      "/scratch/groshchupkin/Students/Cognomics_SummerSchool_2018//study_2/results/90result.npy\n",
      "Saving data...\n",
      "DF is not defined. Forced to use z_score statistics!\n",
      "/scratch/groshchupkin/Students/Cognomics_SummerSchool_2018//study_2/results/86result.npy\n",
      "/scratch/groshchupkin/Students/Cognomics_SummerSchool_2018//study_2/results/65result.npy\n",
      "/scratch/groshchupkin/Students/Cognomics_SummerSchool_2018//study_2/results/62result.npy\n",
      "Saving data...\n",
      "DF is not defined. Forced to use z_score statistics!\n",
      "/scratch/groshchupkin/Students/Cognomics_SummerSchool_2018//study_2/results/57result.npy\n",
      "/scratch/groshchupkin/Students/Cognomics_SummerSchool_2018//study_2/results/46result.npy\n",
      "/scratch/groshchupkin/Students/Cognomics_SummerSchool_2018//study_2/results/41result.npy\n",
      "Saving data...\n",
      "DF is not defined. Forced to use z_score statistics!\n",
      "/scratch/groshchupkin/Students/Cognomics_SummerSchool_2018//study_2/results/40result.npy\n",
      "/scratch/groshchupkin/Students/Cognomics_SummerSchool_2018//study_2/results/39result.npy\n",
      "/scratch/groshchupkin/Students/Cognomics_SummerSchool_2018//study_2/results/38result.npy\n",
      "Saving data...\n",
      "DF is not defined. Forced to use z_score statistics!\n",
      "/scratch/groshchupkin/Students/Cognomics_SummerSchool_2018//study_2/results/37result.npy\n",
      "/scratch/groshchupkin/Students/Cognomics_SummerSchool_2018//study_2/results/36result.npy\n",
      "/scratch/groshchupkin/Students/Cognomics_SummerSchool_2018//study_2/results/34result.npy\n",
      "Saving data...\n",
      "DF is not defined. Forced to use z_score statistics!\n",
      "/scratch/groshchupkin/Students/Cognomics_SummerSchool_2018//study_2/results/33result.npy\n",
      "/scratch/groshchupkin/Students/Cognomics_SummerSchool_2018//study_2/results/32result.npy\n",
      "/scratch/groshchupkin/Students/Cognomics_SummerSchool_2018//study_2/results/31result.npy\n",
      "Saving data...\n",
      "DF is not defined. Forced to use z_score statistics!\n",
      "/scratch/groshchupkin/Students/Cognomics_SummerSchool_2018//study_2/results/30result.npy\n",
      "/scratch/groshchupkin/Students/Cognomics_SummerSchool_2018//study_2/results/29result.npy\n",
      "/scratch/groshchupkin/Students/Cognomics_SummerSchool_2018//study_2/results/27result.npy\n",
      "Saving data...\n",
      "DF is not defined. Forced to use z_score statistics!\n",
      "/scratch/groshchupkin/Students/Cognomics_SummerSchool_2018//study_2/results/26result.npy\n",
      "/scratch/groshchupkin/Students/Cognomics_SummerSchool_2018//study_2/results/25result.npy\n",
      "/scratch/groshchupkin/Students/Cognomics_SummerSchool_2018//study_2/results/24result.npy\n",
      "Saving data...\n",
      "DF is not defined. Forced to use z_score statistics!\n",
      "/scratch/groshchupkin/Students/Cognomics_SummerSchool_2018//study_2/results/23result.npy\n",
      "/scratch/groshchupkin/Students/Cognomics_SummerSchool_2018//study_2/results/22result.npy\n",
      "/scratch/groshchupkin/Students/Cognomics_SummerSchool_2018//study_2/results/21result.npy\n",
      "Saving data...\n",
      "DF is not defined. Forced to use z_score statistics!\n",
      "/scratch/groshchupkin/Students/Cognomics_SummerSchool_2018//study_2/results/20result.npy\n",
      "/scratch/groshchupkin/Students/Cognomics_SummerSchool_2018//study_2/results/19result.npy\n",
      "/scratch/groshchupkin/Students/Cognomics_SummerSchool_2018//study_2/results/18result.npy\n",
      "Saving data...\n",
      "DF is not defined. Forced to use z_score statistics!\n",
      "/scratch/groshchupkin/Students/Cognomics_SummerSchool_2018//study_2/results/17result.npy\n",
      "/scratch/groshchupkin/Students/Cognomics_SummerSchool_2018//study_2/results/16result.npy\n",
      "/scratch/groshchupkin/Students/Cognomics_SummerSchool_2018//study_2/results/15result.npy\n",
      "Saving data...\n",
      "DF is not defined. Forced to use z_score statistics!\n",
      "/scratch/groshchupkin/Students/Cognomics_SummerSchool_2018//study_2/results/13result.npy\n",
      "/scratch/groshchupkin/Students/Cognomics_SummerSchool_2018//study_2/results/12result.npy\n",
      "/scratch/groshchupkin/Students/Cognomics_SummerSchool_2018//study_2/results/11result.npy\n",
      "Saving data...\n",
      "DF is not defined. Forced to use z_score statistics!\n",
      "/scratch/groshchupkin/Students/Cognomics_SummerSchool_2018//study_2/results/10result.npy\n",
      "/scratch/groshchupkin/Students/Cognomics_SummerSchool_2018//study_2/results/9result.npy\n",
      "/scratch/groshchupkin/Students/Cognomics_SummerSchool_2018//study_2/results/8result.npy\n",
      "Saving data...\n",
      "DF is not defined. Forced to use z_score statistics!\n",
      "/scratch/groshchupkin/Students/Cognomics_SummerSchool_2018//study_2/results/6result.npy\n",
      "/scratch/groshchupkin/Students/Cognomics_SummerSchool_2018//study_2/results/5result.npy\n",
      "/scratch/groshchupkin/Students/Cognomics_SummerSchool_2018//study_2/results/4result.npy\n",
      "Saving data...\n",
      "DF is not defined. Forced to use z_score statistics!\n",
      "/scratch/groshchupkin/Students/Cognomics_SummerSchool_2018//study_2/results/3result.npy\n",
      "/scratch/groshchupkin/Students/Cognomics_SummerSchool_2018//study_2/results/2result.npy\n",
      "/scratch/groshchupkin/Students/Cognomics_SummerSchool_2018//study_2/results/1result.npy\n",
      "Saving data...\n",
      "DF is not defined. Forced to use z_score statistics!\n"
     ]
    }
   ],
   "source": [
    "%%sh -s \"$study_2\" \"$SummerSchool_PATH\" \"$HASE_PATH\"\n",
    "\n",
    "i=$1\n",
    "DATA_PATH=$2\n",
    "HASE_PATH=$3\n",
    "\n",
    "mkdir -p ${DATA_PATH}/${i}/summary/\n",
    "\n",
    "python ${HASE_PATH}/tools/analyzer.py -r ${DATA_PATH}/${i}/results/ -o ${DATA_PATH}/${i}/summary/\n",
    "\n"
   ]
  },
  {
   "cell_type": "code",
   "execution_count": 18,
   "metadata": {
    "ExecuteTime": {
     "end_time": "2018-08-16T22:24:24.465956Z",
     "start_time": "2018-08-16T22:24:24.443502Z"
    },
    "collapsed": false
   },
   "outputs": [
    {
     "name": "stdout",
     "output_type": "stream",
     "text": [
      "RSID p_value t-stat phenotype SE MAF BETA\n",
      "7:42547167 3.15290131584e-11 -6.63924678543 phen_1869 23.9013506827 0.994737955729 -158.686965687\n",
      "7:42568032 2.92648991422e-11 -6.65022314465 phen_1869 24.0490375141 0.994739583333 -159.931465883\n",
      "7:42547167 5.9300676232e-11 -6.54548987451 phen_7629 22.6138068621 0.994737955729 -148.01844384\n",
      "7:42568032 5.50772517659e-11 -6.55652185274 phen_7629 22.7535488142 0.994739583333 -149.184140028\n",
      "7:42547167 7.11727903444e-11 -6.5181647651 phen_9799 22.064972668 0.994737955729 -143.823127388\n",
      "7:42568032 6.15209069461e-11 -6.53999495906 phen_9799 22.2000624615 0.994739583333 -145.188296589\n",
      "7:42547167 4.03152002347e-11 -6.60291452857 phen_8854 23.5498315985 0.994737955729 -155.497525207\n",
      "7:42568032 3.72800723742e-11 -6.61450354555 phen_8854 23.6952759615 0.994739583333 -156.73248686\n",
      "7:42547167 2.22524965321e-11 -6.6904239593 phen_4799 21.9343541121 0.994737955729 -146.750128283\n"
     ]
    }
   ],
   "source": [
    "%%sh -s \"$study_2\" \"$SummerSchool_PATH\" \"$HASE_PATH\"\n",
    "\n",
    "i=$1\n",
    "DATA_PATH=$2\n",
    "HASE_PATH=$3\n",
    "\n",
    "head ${DATA_PATH}/${i}/summary/results.csv\n"
   ]
  },
  {
   "cell_type": "code",
   "execution_count": 19,
   "metadata": {
    "ExecuteTime": {
     "end_time": "2018-08-16T22:25:50.988707Z",
     "start_time": "2018-08-16T22:25:50.955039Z"
    },
    "collapsed": false
   },
   "outputs": [
    {
     "name": "stdout",
     "output_type": "stream",
     "text": [
      "(1386, 7)\n"
     ]
    },
    {
     "data": {
      "text/html": [
       "<div>\n",
       "<table border=\"1\" class=\"dataframe\">\n",
       "  <thead>\n",
       "    <tr style=\"text-align: right;\">\n",
       "      <th></th>\n",
       "      <th>RSID</th>\n",
       "      <th>p_value</th>\n",
       "      <th>t-stat</th>\n",
       "      <th>phenotype</th>\n",
       "      <th>SE</th>\n",
       "      <th>MAF</th>\n",
       "      <th>BETA</th>\n",
       "    </tr>\n",
       "  </thead>\n",
       "  <tbody>\n",
       "    <tr>\n",
       "      <th>0</th>\n",
       "      <td>7:42547167</td>\n",
       "      <td>3.152901e-11</td>\n",
       "      <td>-6.639247</td>\n",
       "      <td>phen_1869</td>\n",
       "      <td>23.901351</td>\n",
       "      <td>0.994738</td>\n",
       "      <td>-158.686966</td>\n",
       "    </tr>\n",
       "    <tr>\n",
       "      <th>1</th>\n",
       "      <td>7:42568032</td>\n",
       "      <td>2.926490e-11</td>\n",
       "      <td>-6.650223</td>\n",
       "      <td>phen_1869</td>\n",
       "      <td>24.049038</td>\n",
       "      <td>0.994740</td>\n",
       "      <td>-159.931466</td>\n",
       "    </tr>\n",
       "    <tr>\n",
       "      <th>2</th>\n",
       "      <td>7:42547167</td>\n",
       "      <td>5.930068e-11</td>\n",
       "      <td>-6.545490</td>\n",
       "      <td>phen_7629</td>\n",
       "      <td>22.613807</td>\n",
       "      <td>0.994738</td>\n",
       "      <td>-148.018444</td>\n",
       "    </tr>\n",
       "    <tr>\n",
       "      <th>3</th>\n",
       "      <td>7:42568032</td>\n",
       "      <td>5.507725e-11</td>\n",
       "      <td>-6.556522</td>\n",
       "      <td>phen_7629</td>\n",
       "      <td>22.753549</td>\n",
       "      <td>0.994740</td>\n",
       "      <td>-149.184140</td>\n",
       "    </tr>\n",
       "    <tr>\n",
       "      <th>4</th>\n",
       "      <td>7:42547167</td>\n",
       "      <td>7.117279e-11</td>\n",
       "      <td>-6.518165</td>\n",
       "      <td>phen_9799</td>\n",
       "      <td>22.064973</td>\n",
       "      <td>0.994738</td>\n",
       "      <td>-143.823127</td>\n",
       "    </tr>\n",
       "  </tbody>\n",
       "</table>\n",
       "</div>"
      ],
      "text/plain": [
       "         RSID       p_value    t-stat  phenotype         SE       MAF  \\\n",
       "0  7:42547167  3.152901e-11 -6.639247  phen_1869  23.901351  0.994738   \n",
       "1  7:42568032  2.926490e-11 -6.650223  phen_1869  24.049038  0.994740   \n",
       "2  7:42547167  5.930068e-11 -6.545490  phen_7629  22.613807  0.994738   \n",
       "3  7:42568032  5.507725e-11 -6.556522  phen_7629  22.753549  0.994740   \n",
       "4  7:42547167  7.117279e-11 -6.518165  phen_9799  22.064973  0.994738   \n",
       "\n",
       "         BETA  \n",
       "0 -158.686966  \n",
       "1 -159.931466  \n",
       "2 -148.018444  \n",
       "3 -149.184140  \n",
       "4 -143.823127  "
      ]
     },
     "execution_count": 19,
     "metadata": {},
     "output_type": "execute_result"
    }
   ],
   "source": [
    "df_summary=pd.read_csv('{}/{}/summary//results.csv'.format(SummerSchool_PATH,study_2),sep=' ')\n",
    "print df_summary.shape\n",
    "df_summary.head()"
   ]
  },
  {
   "cell_type": "code",
   "execution_count": 20,
   "metadata": {
    "ExecuteTime": {
     "end_time": "2018-08-16T22:26:16.222749Z",
     "start_time": "2018-08-16T22:26:16.204620Z"
    },
    "collapsed": false
   },
   "outputs": [
    {
     "data": {
      "text/html": [
       "<div>\n",
       "<table border=\"1\" class=\"dataframe\">\n",
       "  <thead>\n",
       "    <tr style=\"text-align: right;\">\n",
       "      <th></th>\n",
       "      <th>RSID</th>\n",
       "      <th>p_value</th>\n",
       "      <th>t-stat</th>\n",
       "      <th>phenotype</th>\n",
       "      <th>SE</th>\n",
       "      <th>MAF</th>\n",
       "      <th>BETA</th>\n",
       "    </tr>\n",
       "  </thead>\n",
       "  <tbody>\n",
       "  </tbody>\n",
       "</table>\n",
       "</div>"
      ],
      "text/plain": [
       "Empty DataFrame\n",
       "Columns: [RSID, p_value, t-stat, phenotype, SE, MAF, BETA]\n",
       "Index: []"
      ]
     },
     "execution_count": 20,
     "metadata": {},
     "output_type": "execute_result"
    }
   ],
   "source": [
    "df_summary.query('MAF>0.05 and MAF<0.95')"
   ]
  },
  {
   "cell_type": "code",
   "execution_count": null,
   "metadata": {
    "collapsed": true
   },
   "outputs": [],
   "source": []
  },
  {
   "cell_type": "markdown",
   "metadata": {},
   "source": [
    "# Mapper file"
   ]
  },
  {
   "cell_type": "markdown",
   "metadata": {},
   "source": [
    "The files were already created. Let's check them:"
   ]
  },
  {
   "cell_type": "code",
   "execution_count": 21,
   "metadata": {
    "ExecuteTime": {
     "end_time": "2018-08-16T22:27:07.664890Z",
     "start_time": "2018-08-16T22:26:45.770528Z"
    },
    "collapsed": false
   },
   "outputs": [
    {
     "name": "stdout",
     "output_type": "stream",
     "text": [
      "Flip shape (50000,)\n",
      "Number of flipped 5461\n",
      "Values shape (30072672,)\n",
      "Number of missed variants 30022792\n",
      "Number of present variants 49880\n",
      "Keys shape (30072672,)\n"
     ]
    }
   ],
   "source": [
    "flip=np.load('{}/{}/mapper/flip_1000Gp1v3_ref_{}.npy'.format(SummerSchool_PATH,study_2, study_2, study_2 ))\n",
    "print 'Flip shape', flip.shape\n",
    "print 'Number of flipped {}'.format(np.sum(flip==-1))\n",
    "values=np.load('{}/{}/mapper/values_1000Gp1v3_ref_{}.npy'.format(SummerSchool_PATH,study_2, study_2, study_2 ))\n",
    "print 'Values shape', values.shape\n",
    "print 'Number of missed variants {}'.format(np.sum(values==-1))\n",
    "print 'Number of present variants {}'.format(np.sum(values!=-1))\n",
    "keys=np.load('{}/{}/mapper/keys_1000Gp1v3_ref.npy'.format(SummerSchool_PATH,study_2, study_2))\n",
    "print 'Keys shape', keys.shape\n",
    "#flip=None\n",
    "#values=None\n",
    "#keys=None"
   ]
  },
  {
   "cell_type": "code",
   "execution_count": null,
   "metadata": {
    "collapsed": true
   },
   "outputs": [],
   "source": []
  },
  {
   "cell_type": "markdown",
   "metadata": {},
   "source": [
    "# Prepare Files for HD Meta-analysis"
   ]
  },
  {
   "cell_type": "markdown",
   "metadata": {},
   "source": [
    "## Compute Partial Derivatives for Meta-Analysis"
   ]
  },
  {
   "cell_type": "code",
   "execution_count": 29,
   "metadata": {
    "ExecuteTime": {
     "end_time": "2018-08-16T22:40:08.055309Z",
     "start_time": "2018-08-16T22:39:32.496725Z"
    },
    "collapsed": false
   },
   "outputs": [
    {
     "name": "stdout",
     "output_type": "stream",
     "text": [
      "WARNING!!! You did not set threshold for t-value, all results will be saved\n",
      "Namespace(cluster='n', covariates='/scratch/groshchupkin/Students/Cognomics_SummerSchool_2018//study_2/covariates/', derivatives=None, effect_intercept=False, encoded=None, genotype=['/scratch/groshchupkin/Students/Cognomics_SummerSchool_2018//study_2/study_2/'], hdf5=True, id=False, interaction=None, intercept='y', maf=0.0, mapper='/scratch/groshchupkin/Students/Cognomics_SummerSchool_2018//study_2/mapper/', mapper_chunk=None, mode='single-meta', node=None, np=True, out='/scratch/groshchupkin/Students/Cognomics_SummerSchool_2018//study_2/partDer/', pd_full=False, permute_ph=False, ph_id_exc=None, ph_id_inc=None, phenotype=['/scratch/groshchupkin/Students/Cognomics_SummerSchool_2018//study_2//phenotype/'], protocol=None, ref_name='1000Gp1v3_ref', snp_id_exc=None, snp_id_inc=None, study_name=['study_2'], thr=None, vcf=False)\n",
      "Numpy linked to openblas_info\n",
      "You loaded values for 1 studies and 30072672 test values\n",
      "reading file study_2.txt\n",
      "There are 1200 ids and 3 columns \n",
      "Use ID from mapper\n",
      "There are 1477 ids\n",
      "There are 1200 common ids\n",
      "Time to PD phenotype (13260,) is 0.462154865265 s\n",
      "reading file /scratch/groshchupkin/Students/Cognomics_SummerSchool_2018//study_2/study_2/genotype/0_study_2.h5\n",
      "Time to PD genotype (25000, 1200) is 3.63682103157 s\n",
      "reading file /scratch/groshchupkin/Students/Cognomics_SummerSchool_2018//study_2/study_2/genotype/1_study_2.h5\n",
      "Time to PD genotype (25000, 1200) is 3.68917012215 s\n",
      "Time to compute partial derivatives : 9.02470898628 sec\n",
      "experiment finished in 32.4609098434 s\n"
     ]
    },
    {
     "name": "stderr",
     "output_type": "stream",
     "text": [
      "Closing remaining open files:/scratch/groshchupkin/Students/Cognomics_SummerSchool_2018//study_2/study_2/probes/study_2.h5...done\n"
     ]
    }
   ],
   "source": [
    "%%sh -s \"$study_2\" \"$SummerSchool_PATH\" \"$HASE_PATH\"\n",
    "\n",
    "i=$1\n",
    "DATA_PATH=$2\n",
    "HASE_PATH=$3\n",
    "\n",
    "\n",
    "python ${HASE_PATH}/hase.py -mode single-meta \\\n",
    "-g ${DATA_PATH}/${i}/${i}/ \\\n",
    "-study_name ${i} \\\n",
    "-o ${DATA_PATH}/${i}/partDer/ \\\n",
    "-ph ${DATA_PATH}/${i}//phenotype/ \\\n",
    "-cov ${DATA_PATH}/${i}/covariates/ \\\n",
    "-mapper ${DATA_PATH}/${i}/mapper/ \n",
    "\n"
   ]
  },
  {
   "cell_type": "code",
   "execution_count": null,
   "metadata": {
    "collapsed": true
   },
   "outputs": [],
   "source": []
  },
  {
   "cell_type": "markdown",
   "metadata": {},
   "source": [
    "## Encode data for Meta-analysis"
   ]
  },
  {
   "cell_type": "code",
   "execution_count": 32,
   "metadata": {
    "ExecuteTime": {
     "end_time": "2018-08-16T23:09:24.878660Z",
     "start_time": "2018-08-16T23:07:23.257630Z"
    },
    "collapsed": false
   },
   "outputs": [
    {
     "name": "stdout",
     "output_type": "stream",
     "text": [
      "WARNING!!! You did not set threshold for t-value, all results will be saved\n",
      "Namespace(cluster='n', covariates=None, derivatives=None, effect_intercept=False, encoded=None, genotype=['/scratch/groshchupkin/Students/Cognomics_SummerSchool_2018//study_1/study_1/'], hdf5=True, id=False, interaction=None, intercept='y', maf=0.0, mapper='/scratch/groshchupkin/Students/Cognomics_SummerSchool_2018//study_1//mapper/', mapper_chunk=None, mode='encoding', node=None, np=True, out='/scratch/groshchupkin/Students/Cognomics_SummerSchool_2018//study_1/encode/', pd_full=False, permute_ph=False, ph_id_exc=None, ph_id_inc=None, phenotype=['/scratch/groshchupkin/Students/Cognomics_SummerSchool_2018//study_1//phenotype/'], protocol=None, ref_name='1000Gp1v3_ref', snp_id_exc=None, snp_id_inc=None, study_name=['study_1'], thr=None, vcf=False)\n",
      "Creating output folder /scratch/groshchupkin/Students/Cognomics_SummerSchool_2018//study_1/encode/\n",
      "Numpy linked to openblas_info\n",
      "You loaded values for 1 studies and 30072672 test values\n",
      "Use ID from mapper\n",
      "There are 1477 ids\n",
      "Creating directories...\n",
      "There are 1300 common ids\n",
      "Saving decoders Matrices to.../scratch/groshchupkin/Students/Cognomics_SummerSchool_2018//study_1/encode/\n",
      "reading file /scratch/groshchupkin/Students/Cognomics_SummerSchool_2018//study_1/study_1/genotype/0_study_1.h5\n",
      "Decoding genotype\n",
      "Saving data to ... /scratch/groshchupkin/Students/Cognomics_SummerSchool_2018//study_1/encode/encode_genotype/0_study_1_encoded.h5\n",
      "Time to create fake genotype is 43.5206639767sec\n",
      "reading file /scratch/groshchupkin/Students/Cognomics_SummerSchool_2018//study_1/study_1/genotype/1_study_1.h5\n",
      "Decoding genotype\n",
      "Saving data to ... /scratch/groshchupkin/Students/Cognomics_SummerSchool_2018//study_1/encode/encode_genotype/1_study_1_encoded.h5\n",
      "Time to create fake genotype is 42.9374709129sec\n",
      "Decoding phenotype\n",
      "Decoding phenotype\n",
      "Decoding phenotype\n",
      "Decoding phenotype\n",
      "Decoding phenotype\n",
      "Decoding phenotype\n",
      "Decoding phenotype\n",
      "Decoding phenotype\n",
      "Decoding phenotype\n",
      "Decoding phenotype\n",
      "Decoding phenotype\n",
      "Decoding phenotype\n",
      "Decoding phenotype\n",
      "Decoding phenotype\n",
      "Time to create fake phenotype is 4.79221343994e-05sec\n",
      "Time to encode all data: 94.9840781689 sec\n",
      "experiment finished in 118.755264044 s\n"
     ]
    },
    {
     "name": "stderr",
     "output_type": "stream",
     "text": [
      "Closing remaining open files:/scratch/groshchupkin/Students/Cognomics_SummerSchool_2018//study_1/study_1/probes/study_1.h5...done\n"
     ]
    }
   ],
   "source": [
    "%%sh -s \"$study_1\" \"$SummerSchool_PATH\" \"$HASE_PATH\"\n",
    "\n",
    "i=$1\n",
    "DATA_PATH=$2\n",
    "HASE_PATH=$3\n",
    "\n",
    "python ${HASE_PATH}/hase.py -mode encoding \\\n",
    "-g ${DATA_PATH}/${i}/${i}/ \\\n",
    "-study_name ${i} \\\n",
    "-o ${DATA_PATH}/${i}/encode/ \\\n",
    "-mapper ${DATA_PATH}/${i}//mapper/ \\\n",
    "-ph ${DATA_PATH}/${i}//phenotype/\n"
   ]
  },
  {
   "cell_type": "code",
   "execution_count": null,
   "metadata": {
    "collapsed": true
   },
   "outputs": [],
   "source": []
  },
  {
   "cell_type": "code",
   "execution_count": null,
   "metadata": {
    "collapsed": true
   },
   "outputs": [],
   "source": []
  },
  {
   "cell_type": "code",
   "execution_count": null,
   "metadata": {
    "collapsed": true
   },
   "outputs": [],
   "source": []
  },
  {
   "cell_type": "code",
   "execution_count": null,
   "metadata": {
    "collapsed": true
   },
   "outputs": [],
   "source": []
  }
 ],
 "metadata": {
  "kernelspec": {
   "display_name": "Python 2",
   "language": "python",
   "name": "python2"
  },
  "language_info": {
   "codemirror_mode": {
    "name": "ipython",
    "version": 2
   },
   "file_extension": ".py",
   "mimetype": "text/x-python",
   "name": "python",
   "nbconvert_exporter": "python",
   "pygments_lexer": "ipython2",
   "version": "2.7.11"
  },
  "toc": {
   "nav_menu": {},
   "number_sections": true,
   "sideBar": true,
   "skip_h1_title": false,
   "toc_cell": false,
   "toc_position": {},
   "toc_section_display": "block",
   "toc_window_display": true
  },
  "varInspector": {
   "cols": {
    "lenName": 16,
    "lenType": 16,
    "lenVar": 40
   },
   "kernels_config": {
    "python": {
     "delete_cmd_postfix": "",
     "delete_cmd_prefix": "del ",
     "library": "var_list.py",
     "varRefreshCmd": "print(var_dic_list())"
    },
    "r": {
     "delete_cmd_postfix": ") ",
     "delete_cmd_prefix": "rm(",
     "library": "var_list.r",
     "varRefreshCmd": "cat(var_dic_list()) "
    }
   },
   "types_to_exclude": [
    "module",
    "function",
    "builtin_function_or_method",
    "instance",
    "_Feature"
   ],
   "window_display": false
  }
 },
 "nbformat": 4,
 "nbformat_minor": 1
}
